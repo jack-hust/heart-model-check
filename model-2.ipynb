{
 "metadata": {
  "kernelspec": {
   "language": "python",
   "display_name": "Python 3",
   "name": "python3"
  },
  "language_info": {
   "name": "python",
   "version": "3.10.13",
   "mimetype": "text/x-python",
   "codemirror_mode": {
    "name": "ipython",
    "version": 3
   },
   "pygments_lexer": "ipython3",
   "nbconvert_exporter": "python",
   "file_extension": ".py"
  },
  "kaggle": {
   "accelerator": "none",
   "dataSources": [
    {
     "sourceId": 7961467,
     "sourceType": "datasetVersion",
     "datasetId": 4683457
    }
   ],
   "dockerImageVersionId": 30673,
   "isInternetEnabled": true,
   "language": "python",
   "sourceType": "notebook",
   "isGpuEnabled": false
  }
 },
 "nbformat_minor": 4,
 "nbformat": 4,
 "cells": [
  {
   "cell_type": "code",
   "source": [
    "import numpy as np\n",
    "import pandas as pd\n",
    "import matplotlib.pyplot as plt\n",
    "import seaborn as sns\n",
    "\n",
    "%matplotlib inline\n",
    "\n",
    "import os\n",
    "print(os.listdir())\n",
    "\n",
    "import warnings\n",
    "warnings.filterwarnings('ignore')"
   ],
   "metadata": {
    "_uuid": "8f2839f25d086af736a60e9eeb907d3b93b6e0e5",
    "_cell_guid": "b1076dfc-b9ad-4769-8c92-a6c4dae69d19",
    "execution": {
     "iopub.status.busy": "2024-03-28T08:41:58.714024Z",
     "iopub.execute_input": "2024-03-28T08:41:58.715195Z",
     "iopub.status.idle": "2024-03-28T08:41:58.722872Z",
     "shell.execute_reply.started": "2024-03-28T08:41:58.715160Z",
     "shell.execute_reply": "2024-03-28T08:41:58.721667Z"
    },
    "trusted": true
   },
   "execution_count": 33,
   "outputs": [
    {
     "name": "stdout",
     "text": "['.virtual_documents']\n",
     "output_type": "stream"
    }
   ]
  },
  {
   "cell_type": "code",
   "source": [
    "dataset = pd.read_csv(\"/kaggle/input/heart-data-2/heart data -2.csv\")"
   ],
   "metadata": {
    "execution": {
     "iopub.status.busy": "2024-03-28T08:41:58.725464Z",
     "iopub.execute_input": "2024-03-28T08:41:58.726403Z",
     "iopub.status.idle": "2024-03-28T08:41:58.740587Z",
     "shell.execute_reply.started": "2024-03-28T08:41:58.726367Z",
     "shell.execute_reply": "2024-03-28T08:41:58.738805Z"
    },
    "trusted": true
   },
   "execution_count": 34,
   "outputs": []
  },
  {
   "cell_type": "code",
   "source": [
    "type(dataset)"
   ],
   "metadata": {
    "execution": {
     "iopub.status.busy": "2024-03-28T08:41:58.742316Z",
     "iopub.execute_input": "2024-03-28T08:41:58.742675Z",
     "iopub.status.idle": "2024-03-28T08:41:58.750100Z",
     "shell.execute_reply.started": "2024-03-28T08:41:58.742646Z",
     "shell.execute_reply": "2024-03-28T08:41:58.748821Z"
    },
    "trusted": true
   },
   "execution_count": 35,
   "outputs": [
    {
     "execution_count": 35,
     "output_type": "execute_result",
     "data": {
      "text/plain": "pandas.core.frame.DataFrame"
     },
     "metadata": {}
    }
   ]
  },
  {
   "cell_type": "code",
   "source": [
    "from sklearn.model_selection import train_test_split\n",
    "\n",
    "predictors = dataset.drop(\"target\",axis=1)\n",
    "target = dataset[\"target\"]\n",
    "\n",
    "X_train,X_test,Y_train,Y_test = train_test_split(predictors,target,test_size=0.20,random_state=0)"
   ],
   "metadata": {
    "execution": {
     "iopub.status.busy": "2024-03-28T08:41:58.751821Z",
     "iopub.execute_input": "2024-03-28T08:41:58.752293Z",
     "iopub.status.idle": "2024-03-28T08:41:58.764541Z",
     "shell.execute_reply.started": "2024-03-28T08:41:58.752222Z",
     "shell.execute_reply": "2024-03-28T08:41:58.763165Z"
    },
    "trusted": true
   },
   "execution_count": 36,
   "outputs": []
  },
  {
   "cell_type": "code",
   "source": [
    "X_train.shape"
   ],
   "metadata": {
    "execution": {
     "iopub.status.busy": "2024-03-28T08:41:58.767694Z",
     "iopub.execute_input": "2024-03-28T08:41:58.768214Z",
     "iopub.status.idle": "2024-03-28T08:41:58.777919Z",
     "shell.execute_reply.started": "2024-03-28T08:41:58.768180Z",
     "shell.execute_reply": "2024-03-28T08:41:58.776716Z"
    },
    "trusted": true
   },
   "execution_count": 37,
   "outputs": [
    {
     "execution_count": 37,
     "output_type": "execute_result",
     "data": {
      "text/plain": "(242, 11)"
     },
     "metadata": {}
    }
   ]
  },
  {
   "cell_type": "code",
   "source": [
    "X_test.shape"
   ],
   "metadata": {
    "execution": {
     "iopub.status.busy": "2024-03-28T08:41:58.779681Z",
     "iopub.execute_input": "2024-03-28T08:41:58.780130Z",
     "iopub.status.idle": "2024-03-28T08:41:58.789591Z",
     "shell.execute_reply.started": "2024-03-28T08:41:58.780090Z",
     "shell.execute_reply": "2024-03-28T08:41:58.788310Z"
    },
    "trusted": true
   },
   "execution_count": 38,
   "outputs": [
    {
     "execution_count": 38,
     "output_type": "execute_result",
     "data": {
      "text/plain": "(61, 11)"
     },
     "metadata": {}
    }
   ]
  },
  {
   "cell_type": "code",
   "source": [
    "Y_train.shape"
   ],
   "metadata": {
    "execution": {
     "iopub.status.busy": "2024-03-28T08:41:58.791109Z",
     "iopub.execute_input": "2024-03-28T08:41:58.791856Z",
     "iopub.status.idle": "2024-03-28T08:41:58.800135Z",
     "shell.execute_reply.started": "2024-03-28T08:41:58.791817Z",
     "shell.execute_reply": "2024-03-28T08:41:58.798902Z"
    },
    "trusted": true
   },
   "execution_count": 39,
   "outputs": [
    {
     "execution_count": 39,
     "output_type": "execute_result",
     "data": {
      "text/plain": "(242,)"
     },
     "metadata": {}
    }
   ]
  },
  {
   "cell_type": "code",
   "source": [
    "Y_test.shape"
   ],
   "metadata": {
    "execution": {
     "iopub.status.busy": "2024-03-28T08:41:58.801408Z",
     "iopub.execute_input": "2024-03-28T08:41:58.801833Z",
     "iopub.status.idle": "2024-03-28T08:41:58.811459Z",
     "shell.execute_reply.started": "2024-03-28T08:41:58.801792Z",
     "shell.execute_reply": "2024-03-28T08:41:58.810317Z"
    },
    "trusted": true
   },
   "execution_count": 40,
   "outputs": [
    {
     "execution_count": 40,
     "output_type": "execute_result",
     "data": {
      "text/plain": "(61,)"
     },
     "metadata": {}
    }
   ]
  },
  {
   "cell_type": "markdown",
   "source": [
    "# **Model**"
   ],
   "metadata": {}
  },
  {
   "cell_type": "code",
   "source": [
    "from sklearn.metrics import accuracy_score"
   ],
   "metadata": {
    "execution": {
     "iopub.status.busy": "2024-03-28T08:41:58.813067Z",
     "iopub.execute_input": "2024-03-28T08:41:58.813802Z",
     "iopub.status.idle": "2024-03-28T08:41:58.820574Z",
     "shell.execute_reply.started": "2024-03-28T08:41:58.813761Z",
     "shell.execute_reply": "2024-03-28T08:41:58.819220Z"
    },
    "trusted": true
   },
   "execution_count": 41,
   "outputs": []
  },
  {
   "cell_type": "markdown",
   "source": [
    "**Logistic Regression**"
   ],
   "metadata": {}
  },
  {
   "cell_type": "code",
   "source": [
    "from sklearn.linear_model import LogisticRegression\n",
    "\n",
    "lr = LogisticRegression()\n",
    "\n",
    "lr.fit(X_train,Y_train)\n",
    "\n",
    "Y_pred_lr = lr.predict(X_test)"
   ],
   "metadata": {
    "execution": {
     "iopub.status.busy": "2024-03-28T08:41:58.822912Z",
     "iopub.execute_input": "2024-03-28T08:41:58.823426Z",
     "iopub.status.idle": "2024-03-28T08:41:58.858557Z",
     "shell.execute_reply.started": "2024-03-28T08:41:58.823383Z",
     "shell.execute_reply": "2024-03-28T08:41:58.857494Z"
    },
    "trusted": true
   },
   "execution_count": 42,
   "outputs": []
  },
  {
   "cell_type": "code",
   "source": [
    "Y_pred_lr.shape"
   ],
   "metadata": {
    "execution": {
     "iopub.status.busy": "2024-03-28T08:41:58.860409Z",
     "iopub.execute_input": "2024-03-28T08:41:58.860754Z",
     "iopub.status.idle": "2024-03-28T08:41:58.866789Z",
     "shell.execute_reply.started": "2024-03-28T08:41:58.860725Z",
     "shell.execute_reply": "2024-03-28T08:41:58.865978Z"
    },
    "trusted": true
   },
   "execution_count": 43,
   "outputs": [
    {
     "execution_count": 43,
     "output_type": "execute_result",
     "data": {
      "text/plain": "(61,)"
     },
     "metadata": {}
    }
   ]
  },
  {
   "cell_type": "code",
   "source": [
    "score_lr = round(accuracy_score(Y_pred_lr,Y_test)*100,2)\n",
    "\n",
    "print(\"The accuracy score achieved using Logistic Regression is: \"+str(score_lr)+\" %\")"
   ],
   "metadata": {
    "execution": {
     "iopub.status.busy": "2024-03-28T08:41:58.922420Z",
     "iopub.execute_input": "2024-03-28T08:41:58.923015Z",
     "iopub.status.idle": "2024-03-28T08:41:58.931631Z",
     "shell.execute_reply.started": "2024-03-28T08:41:58.922983Z",
     "shell.execute_reply": "2024-03-28T08:41:58.930426Z"
    },
    "trusted": true
   },
   "execution_count": 44,
   "outputs": [
    {
     "name": "stdout",
     "text": "The accuracy score achieved using Logistic Regression is: 83.61 %\n",
     "output_type": "stream"
    }
   ]
  },
  {
   "cell_type": "markdown",
   "source": [
    "**Naive Bayes**"
   ],
   "metadata": {}
  },
  {
   "cell_type": "code",
   "source": [
    "from sklearn.naive_bayes import GaussianNB\n",
    "\n",
    "nb = GaussianNB()\n",
    "\n",
    "nb.fit(X_train,Y_train)\n",
    "\n",
    "Y_pred_nb = nb.predict(X_test)"
   ],
   "metadata": {
    "execution": {
     "iopub.status.busy": "2024-03-28T08:41:58.933944Z",
     "iopub.execute_input": "2024-03-28T08:41:58.935023Z",
     "iopub.status.idle": "2024-03-28T08:41:58.949628Z",
     "shell.execute_reply.started": "2024-03-28T08:41:58.934980Z",
     "shell.execute_reply": "2024-03-28T08:41:58.948111Z"
    },
    "trusted": true
   },
   "execution_count": 45,
   "outputs": []
  },
  {
   "cell_type": "code",
   "source": [
    "Y_pred_nb.shape"
   ],
   "metadata": {
    "execution": {
     "iopub.status.busy": "2024-03-28T08:41:58.951186Z",
     "iopub.execute_input": "2024-03-28T08:41:58.952469Z",
     "iopub.status.idle": "2024-03-28T08:41:58.958763Z",
     "shell.execute_reply.started": "2024-03-28T08:41:58.952435Z",
     "shell.execute_reply": "2024-03-28T08:41:58.957710Z"
    },
    "trusted": true
   },
   "execution_count": 46,
   "outputs": [
    {
     "execution_count": 46,
     "output_type": "execute_result",
     "data": {
      "text/plain": "(61,)"
     },
     "metadata": {}
    }
   ]
  },
  {
   "cell_type": "code",
   "source": [
    "score_nb = round(accuracy_score(Y_pred_nb,Y_test)*100,2)\n",
    "\n",
    "print(\"The accuracy score achieved using Naive Bayes is: \"+str(score_nb)+\" %\")"
   ],
   "metadata": {
    "execution": {
     "iopub.status.busy": "2024-03-28T08:41:58.960169Z",
     "iopub.execute_input": "2024-03-28T08:41:58.961011Z",
     "iopub.status.idle": "2024-03-28T08:41:58.970197Z",
     "shell.execute_reply.started": "2024-03-28T08:41:58.960966Z",
     "shell.execute_reply": "2024-03-28T08:41:58.969022Z"
    },
    "trusted": true
   },
   "execution_count": 47,
   "outputs": [
    {
     "name": "stdout",
     "text": "The accuracy score achieved using Naive Bayes is: 81.97 %\n",
     "output_type": "stream"
    }
   ]
  },
  {
   "cell_type": "markdown",
   "source": [
    "**SVM**"
   ],
   "metadata": {}
  },
  {
   "cell_type": "code",
   "source": [
    "from sklearn import svm\n",
    "\n",
    "sv = svm.SVC(kernel='linear')\n",
    "\n",
    "sv.fit(X_train, Y_train)\n",
    "\n",
    "Y_pred_svm = sv.predict(X_test)"
   ],
   "metadata": {
    "execution": {
     "iopub.status.busy": "2024-03-28T08:41:58.973512Z",
     "iopub.execute_input": "2024-03-28T08:41:58.974430Z",
     "iopub.status.idle": "2024-03-28T08:41:59.226518Z",
     "shell.execute_reply.started": "2024-03-28T08:41:58.974398Z",
     "shell.execute_reply": "2024-03-28T08:41:59.225191Z"
    },
    "trusted": true
   },
   "execution_count": 48,
   "outputs": []
  },
  {
   "cell_type": "code",
   "source": [
    "Y_pred_svm.shape"
   ],
   "metadata": {
    "execution": {
     "iopub.status.busy": "2024-03-28T08:41:59.228161Z",
     "iopub.execute_input": "2024-03-28T08:41:59.228542Z",
     "iopub.status.idle": "2024-03-28T08:41:59.236432Z",
     "shell.execute_reply.started": "2024-03-28T08:41:59.228512Z",
     "shell.execute_reply": "2024-03-28T08:41:59.234928Z"
    },
    "trusted": true
   },
   "execution_count": 49,
   "outputs": [
    {
     "execution_count": 49,
     "output_type": "execute_result",
     "data": {
      "text/plain": "(61,)"
     },
     "metadata": {}
    }
   ]
  },
  {
   "cell_type": "code",
   "source": [
    "score_svm = round(accuracy_score(Y_pred_svm,Y_test)*100,2)\n",
    "\n",
    "print(\"The accuracy score achieved using Linear SVM is: \"+str(score_svm)+\" %\")"
   ],
   "metadata": {
    "execution": {
     "iopub.status.busy": "2024-03-28T08:41:59.238418Z",
     "iopub.execute_input": "2024-03-28T08:41:59.238776Z",
     "iopub.status.idle": "2024-03-28T08:41:59.247458Z",
     "shell.execute_reply.started": "2024-03-28T08:41:59.238747Z",
     "shell.execute_reply": "2024-03-28T08:41:59.246511Z"
    },
    "trusted": true
   },
   "execution_count": 50,
   "outputs": [
    {
     "name": "stdout",
     "text": "The accuracy score achieved using Linear SVM is: 86.89 %\n",
     "output_type": "stream"
    }
   ]
  },
  {
   "cell_type": "markdown",
   "source": [
    "**K Nearest Neighbors**"
   ],
   "metadata": {}
  },
  {
   "cell_type": "code",
   "source": [
    "from sklearn.neighbors import KNeighborsClassifier\n",
    "\n",
    "knn = KNeighborsClassifier(n_neighbors=7)\n",
    "knn.fit(X_train,Y_train)\n",
    "Y_pred_knn=knn.predict(X_test)"
   ],
   "metadata": {
    "execution": {
     "iopub.status.busy": "2024-03-28T08:41:59.248794Z",
     "iopub.execute_input": "2024-03-28T08:41:59.249984Z",
     "iopub.status.idle": "2024-03-28T08:41:59.336078Z",
     "shell.execute_reply.started": "2024-03-28T08:41:59.249953Z",
     "shell.execute_reply": "2024-03-28T08:41:59.334921Z"
    },
    "trusted": true
   },
   "execution_count": 51,
   "outputs": []
  },
  {
   "cell_type": "code",
   "source": [
    "Y_pred_knn.shape"
   ],
   "metadata": {
    "execution": {
     "iopub.status.busy": "2024-03-28T08:41:59.338502Z",
     "iopub.execute_input": "2024-03-28T08:41:59.339217Z",
     "iopub.status.idle": "2024-03-28T08:41:59.348068Z",
     "shell.execute_reply.started": "2024-03-28T08:41:59.339173Z",
     "shell.execute_reply": "2024-03-28T08:41:59.346386Z"
    },
    "trusted": true
   },
   "execution_count": 52,
   "outputs": [
    {
     "execution_count": 52,
     "output_type": "execute_result",
     "data": {
      "text/plain": "(61,)"
     },
     "metadata": {}
    }
   ]
  },
  {
   "cell_type": "code",
   "source": [
    "score_knn = round(accuracy_score(Y_pred_knn,Y_test)*100,2)\n",
    "\n",
    "print(\"The accuracy score achieved using KNN is: \"+str(score_knn)+\" %\")"
   ],
   "metadata": {
    "execution": {
     "iopub.status.busy": "2024-03-28T08:41:59.349920Z",
     "iopub.execute_input": "2024-03-28T08:41:59.351200Z",
     "iopub.status.idle": "2024-03-28T08:41:59.358977Z",
     "shell.execute_reply.started": "2024-03-28T08:41:59.351163Z",
     "shell.execute_reply": "2024-03-28T08:41:59.357675Z"
    },
    "trusted": true
   },
   "execution_count": 53,
   "outputs": [
    {
     "name": "stdout",
     "text": "The accuracy score achieved using KNN is: 67.21 %\n",
     "output_type": "stream"
    }
   ]
  },
  {
   "cell_type": "markdown",
   "source": [
    "**Decision Tree**"
   ],
   "metadata": {}
  },
  {
   "cell_type": "code",
   "source": [
    "from sklearn.tree import DecisionTreeClassifier\n",
    "\n",
    "max_accuracy = 0\n",
    "\n",
    "\n",
    "for x in range(200):\n",
    "    dt = DecisionTreeClassifier(random_state=x)\n",
    "    dt.fit(X_train,Y_train)\n",
    "    Y_pred_dt = dt.predict(X_test)\n",
    "    current_accuracy = round(accuracy_score(Y_pred_dt,Y_test)*100,2)\n",
    "    if(current_accuracy>max_accuracy):\n",
    "        max_accuracy = current_accuracy\n",
    "        best_x = x\n",
    "        \n",
    "#print(max_accuracy)\n",
    "#print(best_x)\n",
    "\n",
    "\n",
    "dt = DecisionTreeClassifier(random_state=best_x)\n",
    "dt.fit(X_train,Y_train)\n",
    "Y_pred_dt = dt.predict(X_test)"
   ],
   "metadata": {
    "execution": {
     "iopub.status.busy": "2024-03-28T08:41:59.360164Z",
     "iopub.execute_input": "2024-03-28T08:41:59.360496Z",
     "iopub.status.idle": "2024-03-28T08:42:00.452304Z",
     "shell.execute_reply.started": "2024-03-28T08:41:59.360469Z",
     "shell.execute_reply": "2024-03-28T08:42:00.451336Z"
    },
    "trusted": true
   },
   "execution_count": 54,
   "outputs": []
  },
  {
   "cell_type": "code",
   "source": [
    "print(Y_pred_dt.shape)"
   ],
   "metadata": {
    "execution": {
     "iopub.status.busy": "2024-03-28T08:42:00.453509Z",
     "iopub.execute_input": "2024-03-28T08:42:00.453825Z",
     "iopub.status.idle": "2024-03-28T08:42:00.460410Z",
     "shell.execute_reply.started": "2024-03-28T08:42:00.453798Z",
     "shell.execute_reply": "2024-03-28T08:42:00.458318Z"
    },
    "trusted": true
   },
   "execution_count": 55,
   "outputs": [
    {
     "name": "stdout",
     "text": "(61,)\n",
     "output_type": "stream"
    }
   ]
  },
  {
   "cell_type": "code",
   "source": [
    "score_dt = round(accuracy_score(Y_pred_dt,Y_test)*100,2)\n",
    "\n",
    "print(\"The accuracy score achieved using Decision Tree is: \"+str(score_dt)+\" %\")"
   ],
   "metadata": {
    "execution": {
     "iopub.status.busy": "2024-03-28T08:42:00.462088Z",
     "iopub.execute_input": "2024-03-28T08:42:00.462570Z",
     "iopub.status.idle": "2024-03-28T08:42:00.473739Z",
     "shell.execute_reply.started": "2024-03-28T08:42:00.462532Z",
     "shell.execute_reply": "2024-03-28T08:42:00.472480Z"
    },
    "trusted": true
   },
   "execution_count": 56,
   "outputs": [
    {
     "name": "stdout",
     "text": "The accuracy score achieved using Decision Tree is: 77.05 %\n",
     "output_type": "stream"
    }
   ]
  },
  {
   "cell_type": "markdown",
   "source": [
    "**Random Forest**"
   ],
   "metadata": {}
  },
  {
   "cell_type": "code",
   "source": [
    "from sklearn.ensemble import RandomForestClassifier\n",
    "\n",
    "max_accuracy = 0\n",
    "\n",
    "\n",
    "for x in range(2000):\n",
    "    rf = RandomForestClassifier(random_state=x)\n",
    "    rf.fit(X_train,Y_train)\n",
    "    Y_pred_rf = rf.predict(X_test)\n",
    "    current_accuracy = round(accuracy_score(Y_pred_rf,Y_test)*100,2)\n",
    "    if(current_accuracy>max_accuracy):\n",
    "        max_accuracy = current_accuracy\n",
    "        best_x = x\n",
    "        \n",
    "#print(max_accuracy)\n",
    "#print(best_x)\n",
    "\n",
    "rf = RandomForestClassifier(random_state=best_x)\n",
    "rf.fit(X_train,Y_train)\n",
    "Y_pred_rf = rf.predict(X_test)"
   ],
   "metadata": {
    "execution": {
     "iopub.status.busy": "2024-03-28T08:42:00.480322Z",
     "iopub.execute_input": "2024-03-28T08:42:00.480808Z",
     "iopub.status.idle": "2024-03-28T08:50:11.584975Z",
     "shell.execute_reply.started": "2024-03-28T08:42:00.480764Z",
     "shell.execute_reply": "2024-03-28T08:50:11.583685Z"
    },
    "trusted": true
   },
   "execution_count": 57,
   "outputs": []
  },
  {
   "cell_type": "code",
   "source": [
    "Y_pred_rf.shape"
   ],
   "metadata": {
    "execution": {
     "iopub.status.busy": "2024-03-28T08:50:11.586625Z",
     "iopub.execute_input": "2024-03-28T08:50:11.586959Z",
     "iopub.status.idle": "2024-03-28T08:50:11.594535Z",
     "shell.execute_reply.started": "2024-03-28T08:50:11.586929Z",
     "shell.execute_reply": "2024-03-28T08:50:11.593285Z"
    },
    "trusted": true
   },
   "execution_count": 58,
   "outputs": [
    {
     "execution_count": 58,
     "output_type": "execute_result",
     "data": {
      "text/plain": "(61,)"
     },
     "metadata": {}
    }
   ]
  },
  {
   "cell_type": "code",
   "source": [
    "score_rf = round(accuracy_score(Y_pred_rf,Y_test)*100,2)\n",
    "\n",
    "print(\"The accuracy score achieved using Decision Tree is: \"+str(score_rf)+\" %\")"
   ],
   "metadata": {
    "execution": {
     "iopub.status.busy": "2024-03-28T08:50:11.595939Z",
     "iopub.execute_input": "2024-03-28T08:50:11.596300Z",
     "iopub.status.idle": "2024-03-28T08:50:11.607634Z",
     "shell.execute_reply.started": "2024-03-28T08:50:11.596273Z",
     "shell.execute_reply": "2024-03-28T08:50:11.606276Z"
    },
    "trusted": true
   },
   "execution_count": 59,
   "outputs": [
    {
     "name": "stdout",
     "text": "The accuracy score achieved using Decision Tree is: 88.52 %\n",
     "output_type": "stream"
    }
   ]
  },
  {
   "cell_type": "markdown",
   "source": [
    "**XGBoost**"
   ],
   "metadata": {}
  },
  {
   "cell_type": "code",
   "source": [
    "import xgboost as xgb\n",
    "\n",
    "xgb_model = xgb.XGBClassifier(objective=\"binary:logistic\", random_state=42)\n",
    "xgb_model.fit(X_train, Y_train)\n",
    "\n",
    "Y_pred_xgb = xgb_model.predict(X_test)"
   ],
   "metadata": {
    "execution": {
     "iopub.status.busy": "2024-03-28T08:50:11.609162Z",
     "iopub.execute_input": "2024-03-28T08:50:11.609474Z",
     "iopub.status.idle": "2024-03-28T08:50:11.919277Z",
     "shell.execute_reply.started": "2024-03-28T08:50:11.609448Z",
     "shell.execute_reply": "2024-03-28T08:50:11.918320Z"
    },
    "trusted": true
   },
   "execution_count": 60,
   "outputs": []
  },
  {
   "cell_type": "code",
   "source": [
    "Y_pred_xgb.shape"
   ],
   "metadata": {
    "execution": {
     "iopub.status.busy": "2024-03-28T08:50:11.925369Z",
     "iopub.execute_input": "2024-03-28T08:50:11.929076Z",
     "iopub.status.idle": "2024-03-28T08:50:11.938107Z",
     "shell.execute_reply.started": "2024-03-28T08:50:11.929019Z",
     "shell.execute_reply": "2024-03-28T08:50:11.937305Z"
    },
    "trusted": true
   },
   "execution_count": 61,
   "outputs": [
    {
     "execution_count": 61,
     "output_type": "execute_result",
     "data": {
      "text/plain": "(61,)"
     },
     "metadata": {}
    }
   ]
  },
  {
   "cell_type": "code",
   "source": [
    "score_xgb = round(accuracy_score(Y_pred_xgb,Y_test)*100,2)\n",
    "\n",
    "print(\"The accuracy score achieved using XGBoost is: \"+str(score_xgb)+\" %\")"
   ],
   "metadata": {
    "execution": {
     "iopub.status.busy": "2024-03-28T08:50:11.939571Z",
     "iopub.execute_input": "2024-03-28T08:50:11.940173Z",
     "iopub.status.idle": "2024-03-28T08:50:11.950899Z",
     "shell.execute_reply.started": "2024-03-28T08:50:11.940143Z",
     "shell.execute_reply": "2024-03-28T08:50:11.950064Z"
    },
    "trusted": true
   },
   "execution_count": 62,
   "outputs": [
    {
     "name": "stdout",
     "text": "The accuracy score achieved using XGBoost is: 78.69 %\n",
     "output_type": "stream"
    }
   ]
  },
  {
   "cell_type": "markdown",
   "source": [
    "**Neural Network**"
   ],
   "metadata": {}
  },
  {
   "cell_type": "code",
   "source": [
    "from keras.models import Sequential\n",
    "from keras.layers import Dense"
   ],
   "metadata": {
    "execution": {
     "iopub.status.busy": "2024-03-28T08:53:01.638860Z",
     "iopub.execute_input": "2024-03-28T08:53:01.639925Z",
     "iopub.status.idle": "2024-03-28T08:53:01.644820Z",
     "shell.execute_reply.started": "2024-03-28T08:53:01.639884Z",
     "shell.execute_reply": "2024-03-28T08:53:01.643828Z"
    },
    "trusted": true
   },
   "execution_count": 95,
   "outputs": []
  },
  {
   "cell_type": "code",
   "source": [
    "# https://stats.stackexchange.com/a/136542 helped a lot in avoiding overfitting\n",
    "\n",
    "model = Sequential()\n",
    "model.add(Dense(11,activation='relu',input_dim=11))\n",
    "model.add(Dense(1,activation='sigmoid'))\n",
    "\n",
    "model.compile(loss='binary_crossentropy',optimizer='adam',metrics=['accuracy'])"
   ],
   "metadata": {
    "execution": {
     "iopub.status.busy": "2024-03-28T08:54:05.276836Z",
     "iopub.execute_input": "2024-03-28T08:54:05.277546Z",
     "iopub.status.idle": "2024-03-28T08:54:05.310744Z",
     "shell.execute_reply.started": "2024-03-28T08:54:05.277512Z",
     "shell.execute_reply": "2024-03-28T08:54:05.309829Z"
    },
    "trusted": true
   },
   "execution_count": 98,
   "outputs": []
  },
  {
   "cell_type": "code",
   "source": [
    "model.fit(X_train,Y_train,epochs=300)"
   ],
   "metadata": {
    "execution": {
     "iopub.status.busy": "2024-03-28T08:54:07.477688Z",
     "iopub.execute_input": "2024-03-28T08:54:07.478359Z",
     "iopub.status.idle": "2024-03-28T08:54:23.913796Z",
     "shell.execute_reply.started": "2024-03-28T08:54:07.478324Z",
     "shell.execute_reply": "2024-03-28T08:54:23.912450Z"
    },
    "trusted": true
   },
   "execution_count": 99,
   "outputs": [
    {
     "name": "stdout",
     "text": "Epoch 1/300\n\u001B[1m8/8\u001B[0m \u001B[32m━━━━━━━━━━━━━━━━━━━━\u001B[0m\u001B[37m\u001B[0m \u001B[1m1s\u001B[0m 3ms/step - accuracy: 0.4488 - loss: 22.9141\nEpoch 2/300\n\u001B[1m8/8\u001B[0m \u001B[32m━━━━━━━━━━━━━━━━━━━━\u001B[0m\u001B[37m\u001B[0m \u001B[1m0s\u001B[0m 2ms/step - accuracy: 0.4459 - loss: 14.8619 \nEpoch 3/300\n\u001B[1m8/8\u001B[0m \u001B[32m━━━━━━━━━━━━━━━━━━━━\u001B[0m\u001B[37m\u001B[0m \u001B[1m0s\u001B[0m 2ms/step - accuracy: 0.5325 - loss: 6.4794 \nEpoch 4/300\n\u001B[1m8/8\u001B[0m \u001B[32m━━━━━━━━━━━━━━━━━━━━\u001B[0m\u001B[37m\u001B[0m \u001B[1m0s\u001B[0m 2ms/step - accuracy: 0.6950 - loss: 3.7443 \nEpoch 5/300\n\u001B[1m8/8\u001B[0m \u001B[32m━━━━━━━━━━━━━━━━━━━━\u001B[0m\u001B[37m\u001B[0m \u001B[1m0s\u001B[0m 2ms/step - accuracy: 0.6763 - loss: 4.2211 \nEpoch 6/300\n\u001B[1m8/8\u001B[0m \u001B[32m━━━━━━━━━━━━━━━━━━━━\u001B[0m\u001B[37m\u001B[0m \u001B[1m0s\u001B[0m 2ms/step - accuracy: 0.6950 - loss: 4.4887 \nEpoch 7/300\n\u001B[1m8/8\u001B[0m \u001B[32m━━━━━━━━━━━━━━━━━━━━\u001B[0m\u001B[37m\u001B[0m \u001B[1m0s\u001B[0m 2ms/step - accuracy: 0.6733 - loss: 3.8232 \nEpoch 8/300\n\u001B[1m8/8\u001B[0m \u001B[32m━━━━━━━━━━━━━━━━━━━━\u001B[0m\u001B[37m\u001B[0m \u001B[1m0s\u001B[0m 2ms/step - accuracy: 0.6592 - loss: 3.7959 \nEpoch 9/300\n\u001B[1m8/8\u001B[0m \u001B[32m━━━━━━━━━━━━━━━━━━━━\u001B[0m\u001B[37m\u001B[0m \u001B[1m0s\u001B[0m 2ms/step - accuracy: 0.6506 - loss: 3.6920 \nEpoch 10/300\n\u001B[1m8/8\u001B[0m \u001B[32m━━━━━━━━━━━━━━━━━━━━\u001B[0m\u001B[37m\u001B[0m \u001B[1m0s\u001B[0m 2ms/step - accuracy: 0.6983 - loss: 3.9833 \nEpoch 11/300\n\u001B[1m8/8\u001B[0m \u001B[32m━━━━━━━━━━━━━━━━━━━━\u001B[0m\u001B[37m\u001B[0m \u001B[1m0s\u001B[0m 2ms/step - accuracy: 0.7031 - loss: 3.4528 \nEpoch 12/300\n\u001B[1m8/8\u001B[0m \u001B[32m━━━━━━━━━━━━━━━━━━━━\u001B[0m\u001B[37m\u001B[0m \u001B[1m0s\u001B[0m 2ms/step - accuracy: 0.7414 - loss: 3.0502 \nEpoch 13/300\n\u001B[1m8/8\u001B[0m \u001B[32m━━━━━━━━━━━━━━━━━━━━\u001B[0m\u001B[37m\u001B[0m \u001B[1m0s\u001B[0m 2ms/step - accuracy: 0.6550 - loss: 3.8689 \nEpoch 14/300\n\u001B[1m8/8\u001B[0m \u001B[32m━━━━━━━━━━━━━━━━━━━━\u001B[0m\u001B[37m\u001B[0m \u001B[1m0s\u001B[0m 2ms/step - accuracy: 0.6805 - loss: 3.5547 \nEpoch 15/300\n\u001B[1m8/8\u001B[0m \u001B[32m━━━━━━━━━━━━━━━━━━━━\u001B[0m\u001B[37m\u001B[0m \u001B[1m0s\u001B[0m 2ms/step - accuracy: 0.6896 - loss: 3.4807 \nEpoch 16/300\n\u001B[1m8/8\u001B[0m \u001B[32m━━━━━━━━━━━━━━━━━━━━\u001B[0m\u001B[37m\u001B[0m \u001B[1m0s\u001B[0m 2ms/step - accuracy: 0.6552 - loss: 3.9122 \nEpoch 17/300\n\u001B[1m8/8\u001B[0m \u001B[32m━━━━━━━━━━━━━━━━━━━━\u001B[0m\u001B[37m\u001B[0m \u001B[1m0s\u001B[0m 2ms/step - accuracy: 0.6802 - loss: 3.7511 \nEpoch 18/300\n\u001B[1m8/8\u001B[0m \u001B[32m━━━━━━━━━━━━━━━━━━━━\u001B[0m\u001B[37m\u001B[0m \u001B[1m0s\u001B[0m 2ms/step - accuracy: 0.6728 - loss: 3.6272 \nEpoch 19/300\n\u001B[1m8/8\u001B[0m \u001B[32m━━━━━━━━━━━━━━━━━━━━\u001B[0m\u001B[37m\u001B[0m \u001B[1m0s\u001B[0m 2ms/step - accuracy: 0.6960 - loss: 3.6036 \nEpoch 20/300\n\u001B[1m8/8\u001B[0m \u001B[32m━━━━━━━━━━━━━━━━━━━━\u001B[0m\u001B[37m\u001B[0m \u001B[1m0s\u001B[0m 2ms/step - accuracy: 0.7099 - loss: 2.8666 \nEpoch 21/300\n\u001B[1m8/8\u001B[0m \u001B[32m━━━━━━━━━━━━━━━━━━━━\u001B[0m\u001B[37m\u001B[0m \u001B[1m0s\u001B[0m 2ms/step - accuracy: 0.6482 - loss: 3.5194 \nEpoch 22/300\n\u001B[1m8/8\u001B[0m \u001B[32m━━━━━━━━━━━━━━━━━━━━\u001B[0m\u001B[37m\u001B[0m \u001B[1m0s\u001B[0m 2ms/step - accuracy: 0.6896 - loss: 3.3125 \nEpoch 23/300\n\u001B[1m8/8\u001B[0m \u001B[32m━━━━━━━━━━━━━━━━━━━━\u001B[0m\u001B[37m\u001B[0m \u001B[1m0s\u001B[0m 2ms/step - accuracy: 0.6814 - loss: 3.2701 \nEpoch 24/300\n\u001B[1m8/8\u001B[0m \u001B[32m━━━━━━━━━━━━━━━━━━━━\u001B[0m\u001B[37m\u001B[0m \u001B[1m0s\u001B[0m 2ms/step - accuracy: 0.6868 - loss: 3.5309 \nEpoch 25/300\n\u001B[1m8/8\u001B[0m \u001B[32m━━━━━━━━━━━━━━━━━━━━\u001B[0m\u001B[37m\u001B[0m \u001B[1m0s\u001B[0m 2ms/step - accuracy: 0.6817 - loss: 3.6888 \nEpoch 26/300\n\u001B[1m8/8\u001B[0m \u001B[32m━━━━━━━━━━━━━━━━━━━━\u001B[0m\u001B[37m\u001B[0m \u001B[1m0s\u001B[0m 2ms/step - accuracy: 0.6768 - loss: 3.3195 \nEpoch 27/300\n\u001B[1m8/8\u001B[0m \u001B[32m━━━━━━━━━━━━━━━━━━━━\u001B[0m\u001B[37m\u001B[0m \u001B[1m0s\u001B[0m 2ms/step - accuracy: 0.6585 - loss: 3.4615 \nEpoch 28/300\n\u001B[1m8/8\u001B[0m \u001B[32m━━━━━━━━━━━━━━━━━━━━\u001B[0m\u001B[37m\u001B[0m \u001B[1m0s\u001B[0m 2ms/step - accuracy: 0.7019 - loss: 3.1152 \nEpoch 29/300\n\u001B[1m8/8\u001B[0m \u001B[32m━━━━━━━━━━━━━━━━━━━━\u001B[0m\u001B[37m\u001B[0m \u001B[1m0s\u001B[0m 2ms/step - accuracy: 0.6480 - loss: 3.9770 \nEpoch 30/300\n\u001B[1m8/8\u001B[0m \u001B[32m━━━━━━━━━━━━━━━━━━━━\u001B[0m\u001B[37m\u001B[0m \u001B[1m0s\u001B[0m 2ms/step - accuracy: 0.6962 - loss: 2.9864 \nEpoch 31/300\n\u001B[1m8/8\u001B[0m \u001B[32m━━━━━━━━━━━━━━━━━━━━\u001B[0m\u001B[37m\u001B[0m \u001B[1m0s\u001B[0m 2ms/step - accuracy: 0.6847 - loss: 3.4029 \nEpoch 32/300\n\u001B[1m8/8\u001B[0m \u001B[32m━━━━━━━━━━━━━━━━━━━━\u001B[0m\u001B[37m\u001B[0m \u001B[1m0s\u001B[0m 2ms/step - accuracy: 0.6991 - loss: 2.9996 \nEpoch 33/300\n\u001B[1m8/8\u001B[0m \u001B[32m━━━━━━━━━━━━━━━━━━━━\u001B[0m\u001B[37m\u001B[0m \u001B[1m0s\u001B[0m 2ms/step - accuracy: 0.6801 - loss: 3.0658 \nEpoch 34/300\n\u001B[1m8/8\u001B[0m \u001B[32m━━━━━━━━━━━━━━━━━━━━\u001B[0m\u001B[37m\u001B[0m \u001B[1m0s\u001B[0m 2ms/step - accuracy: 0.6350 - loss: 3.8101 \nEpoch 35/300\n\u001B[1m8/8\u001B[0m \u001B[32m━━━━━━━━━━━━━━━━━━━━\u001B[0m\u001B[37m\u001B[0m \u001B[1m0s\u001B[0m 2ms/step - accuracy: 0.6586 - loss: 3.9440 \nEpoch 36/300\n\u001B[1m8/8\u001B[0m \u001B[32m━━━━━━━━━━━━━━━━━━━━\u001B[0m\u001B[37m\u001B[0m \u001B[1m0s\u001B[0m 2ms/step - accuracy: 0.6962 - loss: 3.0863 \nEpoch 37/300\n\u001B[1m8/8\u001B[0m \u001B[32m━━━━━━━━━━━━━━━━━━━━\u001B[0m\u001B[37m\u001B[0m \u001B[1m0s\u001B[0m 2ms/step - accuracy: 0.7355 - loss: 2.8711 \nEpoch 38/300\n\u001B[1m8/8\u001B[0m \u001B[32m━━━━━━━━━━━━━━━━━━━━\u001B[0m\u001B[37m\u001B[0m \u001B[1m0s\u001B[0m 2ms/step - accuracy: 0.6974 - loss: 2.6231 \nEpoch 39/300\n\u001B[1m8/8\u001B[0m \u001B[32m━━━━━━━━━━━━━━━━━━━━\u001B[0m\u001B[37m\u001B[0m \u001B[1m0s\u001B[0m 2ms/step - accuracy: 0.6832 - loss: 2.9597 \nEpoch 40/300\n\u001B[1m8/8\u001B[0m \u001B[32m━━━━━━━━━━━━━━━━━━━━\u001B[0m\u001B[37m\u001B[0m \u001B[1m0s\u001B[0m 2ms/step - accuracy: 0.7116 - loss: 2.5385 \nEpoch 41/300\n\u001B[1m8/8\u001B[0m \u001B[32m━━━━━━━━━━━━━━━━━━━━\u001B[0m\u001B[37m\u001B[0m \u001B[1m0s\u001B[0m 2ms/step - accuracy: 0.6725 - loss: 3.1183 \nEpoch 42/300\n\u001B[1m8/8\u001B[0m \u001B[32m━━━━━━━━━━━━━━━━━━━━\u001B[0m\u001B[37m\u001B[0m \u001B[1m0s\u001B[0m 2ms/step - accuracy: 0.7003 - loss: 2.9620 \nEpoch 43/300\n\u001B[1m8/8\u001B[0m \u001B[32m━━━━━━━━━━━━━━━━━━━━\u001B[0m\u001B[37m\u001B[0m \u001B[1m0s\u001B[0m 2ms/step - accuracy: 0.7093 - loss: 3.1363 \nEpoch 44/300\n\u001B[1m8/8\u001B[0m \u001B[32m━━━━━━━━━━━━━━━━━━━━\u001B[0m\u001B[37m\u001B[0m \u001B[1m0s\u001B[0m 2ms/step - accuracy: 0.6827 - loss: 3.0758 \nEpoch 45/300\n\u001B[1m8/8\u001B[0m \u001B[32m━━━━━━━━━━━━━━━━━━━━\u001B[0m\u001B[37m\u001B[0m \u001B[1m0s\u001B[0m 2ms/step - accuracy: 0.6737 - loss: 2.8835 \nEpoch 46/300\n\u001B[1m8/8\u001B[0m \u001B[32m━━━━━━━━━━━━━━━━━━━━\u001B[0m\u001B[37m\u001B[0m \u001B[1m0s\u001B[0m 2ms/step - accuracy: 0.7213 - loss: 2.3922 \nEpoch 47/300\n\u001B[1m8/8\u001B[0m \u001B[32m━━━━━━━━━━━━━━━━━━━━\u001B[0m\u001B[37m\u001B[0m \u001B[1m0s\u001B[0m 2ms/step - accuracy: 0.7151 - loss: 2.3052 \nEpoch 48/300\n\u001B[1m8/8\u001B[0m \u001B[32m━━━━━━━━━━━━━━━━━━━━\u001B[0m\u001B[37m\u001B[0m \u001B[1m0s\u001B[0m 2ms/step - accuracy: 0.6969 - loss: 2.6694 \nEpoch 49/300\n\u001B[1m8/8\u001B[0m \u001B[32m━━━━━━━━━━━━━━━━━━━━\u001B[0m\u001B[37m\u001B[0m \u001B[1m0s\u001B[0m 2ms/step - accuracy: 0.7164 - loss: 2.4572 \nEpoch 50/300\n\u001B[1m8/8\u001B[0m \u001B[32m━━━━━━━━━━━━━━━━━━━━\u001B[0m\u001B[37m\u001B[0m \u001B[1m0s\u001B[0m 2ms/step - accuracy: 0.6971 - loss: 2.8139 \nEpoch 51/300\n\u001B[1m8/8\u001B[0m \u001B[32m━━━━━━━━━━━━━━━━━━━━\u001B[0m\u001B[37m\u001B[0m \u001B[1m0s\u001B[0m 2ms/step - accuracy: 0.6792 - loss: 2.9861 \nEpoch 52/300\n\u001B[1m8/8\u001B[0m \u001B[32m━━━━━━━━━━━━━━━━━━━━\u001B[0m\u001B[37m\u001B[0m \u001B[1m0s\u001B[0m 2ms/step - accuracy: 0.6526 - loss: 3.0980 \nEpoch 53/300\n\u001B[1m8/8\u001B[0m \u001B[32m━━━━━━━━━━━━━━━━━━━━\u001B[0m\u001B[37m\u001B[0m \u001B[1m0s\u001B[0m 2ms/step - accuracy: 0.6800 - loss: 2.7188 \nEpoch 54/300\n\u001B[1m8/8\u001B[0m \u001B[32m━━━━━━━━━━━━━━━━━━━━\u001B[0m\u001B[37m\u001B[0m \u001B[1m0s\u001B[0m 2ms/step - accuracy: 0.7121 - loss: 2.5686 \nEpoch 55/300\n\u001B[1m8/8\u001B[0m \u001B[32m━━━━━━━━━━━━━━━━━━━━\u001B[0m\u001B[37m\u001B[0m \u001B[1m0s\u001B[0m 2ms/step - accuracy: 0.7003 - loss: 2.6859 \nEpoch 56/300\n\u001B[1m8/8\u001B[0m \u001B[32m━━━━━━━━━━━━━━━━━━━━\u001B[0m\u001B[37m\u001B[0m \u001B[1m0s\u001B[0m 2ms/step - accuracy: 0.6922 - loss: 2.4945 \nEpoch 57/300\n\u001B[1m8/8\u001B[0m \u001B[32m━━━━━━━━━━━━━━━━━━━━\u001B[0m\u001B[37m\u001B[0m \u001B[1m0s\u001B[0m 2ms/step - accuracy: 0.6635 - loss: 2.6884 \nEpoch 58/300\n\u001B[1m8/8\u001B[0m \u001B[32m━━━━━━━━━━━━━━━━━━━━\u001B[0m\u001B[37m\u001B[0m \u001B[1m0s\u001B[0m 2ms/step - accuracy: 0.7052 - loss: 2.7270 \nEpoch 59/300\n\u001B[1m8/8\u001B[0m \u001B[32m━━━━━━━━━━━━━━━━━━━━\u001B[0m\u001B[37m\u001B[0m \u001B[1m0s\u001B[0m 2ms/step - accuracy: 0.6992 - loss: 2.3192 \nEpoch 60/300\n\u001B[1m8/8\u001B[0m \u001B[32m━━━━━━━━━━━━━━━━━━━━\u001B[0m\u001B[37m\u001B[0m \u001B[1m0s\u001B[0m 2ms/step - accuracy: 0.7193 - loss: 2.2549 \nEpoch 61/300\n\u001B[1m8/8\u001B[0m \u001B[32m━━━━━━━━━━━━━━━━━━━━\u001B[0m\u001B[37m\u001B[0m \u001B[1m0s\u001B[0m 2ms/step - accuracy: 0.7148 - loss: 2.4390 \nEpoch 62/300\n\u001B[1m8/8\u001B[0m \u001B[32m━━━━━━━━━━━━━━━━━━━━\u001B[0m\u001B[37m\u001B[0m \u001B[1m0s\u001B[0m 2ms/step - accuracy: 0.6743 - loss: 2.4214 \nEpoch 63/300\n\u001B[1m8/8\u001B[0m \u001B[32m━━━━━━━━━━━━━━━━━━━━\u001B[0m\u001B[37m\u001B[0m \u001B[1m0s\u001B[0m 2ms/step - accuracy: 0.7273 - loss: 2.2901 \nEpoch 64/300\n\u001B[1m8/8\u001B[0m \u001B[32m━━━━━━━━━━━━━━━━━━━━\u001B[0m\u001B[37m\u001B[0m \u001B[1m0s\u001B[0m 2ms/step - accuracy: 0.7001 - loss: 2.2073 \nEpoch 65/300\n\u001B[1m8/8\u001B[0m \u001B[32m━━━━━━━━━━━━━━━━━━━━\u001B[0m\u001B[37m\u001B[0m \u001B[1m0s\u001B[0m 2ms/step - accuracy: 0.6606 - loss: 2.7343 \nEpoch 66/300\n\u001B[1m8/8\u001B[0m \u001B[32m━━━━━━━━━━━━━━━━━━━━\u001B[0m\u001B[37m\u001B[0m \u001B[1m0s\u001B[0m 2ms/step - accuracy: 0.7096 - loss: 2.0062 \nEpoch 67/300\n\u001B[1m8/8\u001B[0m \u001B[32m━━━━━━━━━━━━━━━━━━━━\u001B[0m\u001B[37m\u001B[0m \u001B[1m0s\u001B[0m 2ms/step - accuracy: 0.7251 - loss: 2.2923 \nEpoch 68/300\n\u001B[1m8/8\u001B[0m \u001B[32m━━━━━━━━━━━━━━━━━━━━\u001B[0m\u001B[37m\u001B[0m \u001B[1m0s\u001B[0m 2ms/step - accuracy: 0.7158 - loss: 2.1615 \nEpoch 69/300\n\u001B[1m8/8\u001B[0m \u001B[32m━━━━━━━━━━━━━━━━━━━━\u001B[0m\u001B[37m\u001B[0m \u001B[1m0s\u001B[0m 2ms/step - accuracy: 0.6996 - loss: 2.0410 \nEpoch 70/300\n\u001B[1m8/8\u001B[0m \u001B[32m━━━━━━━━━━━━━━━━━━━━\u001B[0m\u001B[37m\u001B[0m \u001B[1m0s\u001B[0m 2ms/step - accuracy: 0.7332 - loss: 2.1213 \nEpoch 71/300\n\u001B[1m8/8\u001B[0m \u001B[32m━━━━━━━━━━━━━━━━━━━━\u001B[0m\u001B[37m\u001B[0m \u001B[1m0s\u001B[0m 2ms/step - accuracy: 0.6528 - loss: 2.8832 \nEpoch 72/300\n\u001B[1m8/8\u001B[0m \u001B[32m━━━━━━━━━━━━━━━━━━━━\u001B[0m\u001B[37m\u001B[0m \u001B[1m0s\u001B[0m 2ms/step - accuracy: 0.7006 - loss: 2.2919 \nEpoch 73/300\n\u001B[1m8/8\u001B[0m \u001B[32m━━━━━━━━━━━━━━━━━━━━\u001B[0m\u001B[37m\u001B[0m \u001B[1m0s\u001B[0m 2ms/step - accuracy: 0.7081 - loss: 2.0723 \nEpoch 74/300\n\u001B[1m8/8\u001B[0m \u001B[32m━━━━━━━━━━━━━━━━━━━━\u001B[0m\u001B[37m\u001B[0m \u001B[1m0s\u001B[0m 2ms/step - accuracy: 0.7404 - loss: 1.7134 \nEpoch 75/300\n\u001B[1m8/8\u001B[0m \u001B[32m━━━━━━━━━━━━━━━━━━━━\u001B[0m\u001B[37m\u001B[0m \u001B[1m0s\u001B[0m 2ms/step - accuracy: 0.6799 - loss: 2.2861 \nEpoch 76/300\n\u001B[1m8/8\u001B[0m \u001B[32m━━━━━━━━━━━━━━━━━━━━\u001B[0m\u001B[37m\u001B[0m \u001B[1m0s\u001B[0m 2ms/step - accuracy: 0.7042 - loss: 2.2089 \nEpoch 77/300\n\u001B[1m8/8\u001B[0m \u001B[32m━━━━━━━━━━━━━━━━━━━━\u001B[0m\u001B[37m\u001B[0m \u001B[1m0s\u001B[0m 2ms/step - accuracy: 0.7169 - loss: 1.9762 \nEpoch 78/300\n\u001B[1m8/8\u001B[0m \u001B[32m━━━━━━━━━━━━━━━━━━━━\u001B[0m\u001B[37m\u001B[0m \u001B[1m0s\u001B[0m 2ms/step - accuracy: 0.7336 - loss: 2.0222 \nEpoch 79/300\n\u001B[1m8/8\u001B[0m \u001B[32m━━━━━━━━━━━━━━━━━━━━\u001B[0m\u001B[37m\u001B[0m \u001B[1m0s\u001B[0m 2ms/step - accuracy: 0.6984 - loss: 1.7718 \nEpoch 80/300\n\u001B[1m8/8\u001B[0m \u001B[32m━━━━━━━━━━━━━━━━━━━━\u001B[0m\u001B[37m\u001B[0m \u001B[1m0s\u001B[0m 2ms/step - accuracy: 0.7247 - loss: 1.8315 \nEpoch 81/300\n\u001B[1m8/8\u001B[0m \u001B[32m━━━━━━━━━━━━━━━━━━━━\u001B[0m\u001B[37m\u001B[0m \u001B[1m0s\u001B[0m 2ms/step - accuracy: 0.6905 - loss: 2.0984 \nEpoch 82/300\n\u001B[1m8/8\u001B[0m \u001B[32m━━━━━━━━━━━━━━━━━━━━\u001B[0m\u001B[37m\u001B[0m \u001B[1m0s\u001B[0m 2ms/step - accuracy: 0.7249 - loss: 1.6872 \nEpoch 83/300\n\u001B[1m8/8\u001B[0m \u001B[32m━━━━━━━━━━━━━━━━━━━━\u001B[0m\u001B[37m\u001B[0m \u001B[1m0s\u001B[0m 2ms/step - accuracy: 0.6980 - loss: 1.8999 \nEpoch 84/300\n\u001B[1m8/8\u001B[0m \u001B[32m━━━━━━━━━━━━━━━━━━━━\u001B[0m\u001B[37m\u001B[0m \u001B[1m0s\u001B[0m 3ms/step - accuracy: 0.7310 - loss: 1.6061 \nEpoch 85/300\n\u001B[1m8/8\u001B[0m \u001B[32m━━━━━━━━━━━━━━━━━━━━\u001B[0m\u001B[37m\u001B[0m \u001B[1m0s\u001B[0m 2ms/step - accuracy: 0.7045 - loss: 1.6451 \nEpoch 86/300\n\u001B[1m8/8\u001B[0m \u001B[32m━━━━━━━━━━━━━━━━━━━━\u001B[0m\u001B[37m\u001B[0m \u001B[1m0s\u001B[0m 2ms/step - accuracy: 0.7276 - loss: 1.8423 \nEpoch 87/300\n\u001B[1m8/8\u001B[0m \u001B[32m━━━━━━━━━━━━━━━━━━━━\u001B[0m\u001B[37m\u001B[0m \u001B[1m0s\u001B[0m 2ms/step - accuracy: 0.7108 - loss: 1.7597 \nEpoch 88/300\n\u001B[1m8/8\u001B[0m \u001B[32m━━━━━━━━━━━━━━━━━━━━\u001B[0m\u001B[37m\u001B[0m \u001B[1m0s\u001B[0m 2ms/step - accuracy: 0.7192 - loss: 1.7031 \nEpoch 89/300\n\u001B[1m8/8\u001B[0m \u001B[32m━━━━━━━━━━━━━━━━━━━━\u001B[0m\u001B[37m\u001B[0m \u001B[1m0s\u001B[0m 2ms/step - accuracy: 0.7234 - loss: 1.8295 \nEpoch 90/300\n\u001B[1m8/8\u001B[0m \u001B[32m━━━━━━━━━━━━━━━━━━━━\u001B[0m\u001B[37m\u001B[0m \u001B[1m0s\u001B[0m 2ms/step - accuracy: 0.7323 - loss: 1.5230 \nEpoch 91/300\n\u001B[1m8/8\u001B[0m \u001B[32m━━━━━━━━━━━━━━━━━━━━\u001B[0m\u001B[37m\u001B[0m \u001B[1m0s\u001B[0m 2ms/step - accuracy: 0.7194 - loss: 1.6135 \nEpoch 92/300\n\u001B[1m8/8\u001B[0m \u001B[32m━━━━━━━━━━━━━━━━━━━━\u001B[0m\u001B[37m\u001B[0m \u001B[1m0s\u001B[0m 2ms/step - accuracy: 0.7094 - loss: 1.6575 \nEpoch 93/300\n\u001B[1m8/8\u001B[0m \u001B[32m━━━━━━━━━━━━━━━━━━━━\u001B[0m\u001B[37m\u001B[0m \u001B[1m0s\u001B[0m 2ms/step - accuracy: 0.7175 - loss: 1.7111 \nEpoch 94/300\n\u001B[1m8/8\u001B[0m \u001B[32m━━━━━━━━━━━━━━━━━━━━\u001B[0m\u001B[37m\u001B[0m \u001B[1m0s\u001B[0m 2ms/step - accuracy: 0.7557 - loss: 1.4413 \nEpoch 95/300\n\u001B[1m8/8\u001B[0m \u001B[32m━━━━━━━━━━━━━━━━━━━━\u001B[0m\u001B[37m\u001B[0m \u001B[1m0s\u001B[0m 2ms/step - accuracy: 0.6755 - loss: 1.8907 \nEpoch 96/300\n\u001B[1m8/8\u001B[0m \u001B[32m━━━━━━━━━━━━━━━━━━━━\u001B[0m\u001B[37m\u001B[0m \u001B[1m0s\u001B[0m 2ms/step - accuracy: 0.6938 - loss: 1.5891 \nEpoch 97/300\n\u001B[1m8/8\u001B[0m \u001B[32m━━━━━━━━━━━━━━━━━━━━\u001B[0m\u001B[37m\u001B[0m \u001B[1m0s\u001B[0m 2ms/step - accuracy: 0.7350 - loss: 1.4314 \nEpoch 98/300\n\u001B[1m8/8\u001B[0m \u001B[32m━━━━━━━━━━━━━━━━━━━━\u001B[0m\u001B[37m\u001B[0m \u001B[1m0s\u001B[0m 2ms/step - accuracy: 0.7464 - loss: 1.2834 \nEpoch 99/300\n\u001B[1m8/8\u001B[0m \u001B[32m━━━━━━━━━━━━━━━━━━━━\u001B[0m\u001B[37m\u001B[0m \u001B[1m0s\u001B[0m 2ms/step - accuracy: 0.7569 - loss: 1.2075 \nEpoch 100/300\n\u001B[1m8/8\u001B[0m \u001B[32m━━━━━━━━━━━━━━━━━━━━\u001B[0m\u001B[37m\u001B[0m \u001B[1m0s\u001B[0m 2ms/step - accuracy: 0.7211 - loss: 1.2612 \nEpoch 101/300\n\u001B[1m8/8\u001B[0m \u001B[32m━━━━━━━━━━━━━━━━━━━━\u001B[0m\u001B[37m\u001B[0m \u001B[1m0s\u001B[0m 2ms/step - accuracy: 0.6756 - loss: 1.7347 \nEpoch 102/300\n\u001B[1m8/8\u001B[0m \u001B[32m━━━━━━━━━━━━━━━━━━━━\u001B[0m\u001B[37m\u001B[0m \u001B[1m0s\u001B[0m 2ms/step - accuracy: 0.7121 - loss: 1.4210 \nEpoch 103/300\n\u001B[1m8/8\u001B[0m \u001B[32m━━━━━━━━━━━━━━━━━━━━\u001B[0m\u001B[37m\u001B[0m \u001B[1m0s\u001B[0m 2ms/step - accuracy: 0.7166 - loss: 1.3257 \nEpoch 104/300\n\u001B[1m8/8\u001B[0m \u001B[32m━━━━━━━━━━━━━━━━━━━━\u001B[0m\u001B[37m\u001B[0m \u001B[1m0s\u001B[0m 2ms/step - accuracy: 0.7352 - loss: 1.0826 \nEpoch 105/300\n\u001B[1m8/8\u001B[0m \u001B[32m━━━━━━━━━━━━━━━━━━━━\u001B[0m\u001B[37m\u001B[0m \u001B[1m0s\u001B[0m 2ms/step - accuracy: 0.7347 - loss: 1.4014 \nEpoch 106/300\n\u001B[1m8/8\u001B[0m \u001B[32m━━━━━━━━━━━━━━━━━━━━\u001B[0m\u001B[37m\u001B[0m \u001B[1m0s\u001B[0m 2ms/step - accuracy: 0.6939 - loss: 1.3799 \nEpoch 107/300\n\u001B[1m8/8\u001B[0m \u001B[32m━━━━━━━━━━━━━━━━━━━━\u001B[0m\u001B[37m\u001B[0m \u001B[1m0s\u001B[0m 2ms/step - accuracy: 0.7140 - loss: 1.5019 \nEpoch 108/300\n\u001B[1m8/8\u001B[0m \u001B[32m━━━━━━━━━━━━━━━━━━━━\u001B[0m\u001B[37m\u001B[0m \u001B[1m0s\u001B[0m 2ms/step - accuracy: 0.7336 - loss: 1.2148 \nEpoch 109/300\n\u001B[1m8/8\u001B[0m \u001B[32m━━━━━━━━━━━━━━━━━━━━\u001B[0m\u001B[37m\u001B[0m \u001B[1m0s\u001B[0m 2ms/step - accuracy: 0.6991 - loss: 1.3410 \nEpoch 110/300\n\u001B[1m8/8\u001B[0m \u001B[32m━━━━━━━━━━━━━━━━━━━━\u001B[0m\u001B[37m\u001B[0m \u001B[1m0s\u001B[0m 2ms/step - accuracy: 0.7238 - loss: 1.3615 \nEpoch 111/300\n\u001B[1m8/8\u001B[0m \u001B[32m━━━━━━━━━━━━━━━━━━━━\u001B[0m\u001B[37m\u001B[0m \u001B[1m0s\u001B[0m 2ms/step - accuracy: 0.7489 - loss: 1.1091 \nEpoch 112/300\n\u001B[1m8/8\u001B[0m \u001B[32m━━━━━━━━━━━━━━━━━━━━\u001B[0m\u001B[37m\u001B[0m \u001B[1m0s\u001B[0m 2ms/step - accuracy: 0.7211 - loss: 1.0398 \nEpoch 113/300\n\u001B[1m8/8\u001B[0m \u001B[32m━━━━━━━━━━━━━━━━━━━━\u001B[0m\u001B[37m\u001B[0m \u001B[1m0s\u001B[0m 2ms/step - accuracy: 0.7234 - loss: 1.1276 \nEpoch 114/300\n\u001B[1m8/8\u001B[0m \u001B[32m━━━━━━━━━━━━━━━━━━━━\u001B[0m\u001B[37m\u001B[0m \u001B[1m0s\u001B[0m 3ms/step - accuracy: 0.7409 - loss: 1.0187 \nEpoch 115/300\n\u001B[1m8/8\u001B[0m \u001B[32m━━━━━━━━━━━━━━━━━━━━\u001B[0m\u001B[37m\u001B[0m \u001B[1m0s\u001B[0m 2ms/step - accuracy: 0.7120 - loss: 1.2587 \nEpoch 116/300\n\u001B[1m8/8\u001B[0m \u001B[32m━━━━━━━━━━━━━━━━━━━━\u001B[0m\u001B[37m\u001B[0m \u001B[1m0s\u001B[0m 2ms/step - accuracy: 0.7419 - loss: 1.0249 \nEpoch 117/300\n\u001B[1m8/8\u001B[0m \u001B[32m━━━━━━━━━━━━━━━━━━━━\u001B[0m\u001B[37m\u001B[0m \u001B[1m0s\u001B[0m 2ms/step - accuracy: 0.6910 - loss: 1.2940 \nEpoch 118/300\n\u001B[1m8/8\u001B[0m \u001B[32m━━━━━━━━━━━━━━━━━━━━\u001B[0m\u001B[37m\u001B[0m \u001B[1m0s\u001B[0m 2ms/step - accuracy: 0.7426 - loss: 1.2489 \nEpoch 119/300\n\u001B[1m8/8\u001B[0m \u001B[32m━━━━━━━━━━━━━━━━━━━━\u001B[0m\u001B[37m\u001B[0m \u001B[1m0s\u001B[0m 2ms/step - accuracy: 0.7092 - loss: 1.1614 \nEpoch 120/300\n\u001B[1m8/8\u001B[0m \u001B[32m━━━━━━━━━━━━━━━━━━━━\u001B[0m\u001B[37m\u001B[0m \u001B[1m0s\u001B[0m 2ms/step - accuracy: 0.7509 - loss: 1.0725 \nEpoch 121/300\n\u001B[1m8/8\u001B[0m \u001B[32m━━━━━━━━━━━━━━━━━━━━\u001B[0m\u001B[37m\u001B[0m \u001B[1m0s\u001B[0m 2ms/step - accuracy: 0.7766 - loss: 0.8641 \nEpoch 122/300\n\u001B[1m8/8\u001B[0m \u001B[32m━━━━━━━━━━━━━━━━━━━━\u001B[0m\u001B[37m\u001B[0m \u001B[1m0s\u001B[0m 2ms/step - accuracy: 0.7443 - loss: 0.9797 \nEpoch 123/300\n\u001B[1m8/8\u001B[0m \u001B[32m━━━━━━━━━━━━━━━━━━━━\u001B[0m\u001B[37m\u001B[0m \u001B[1m0s\u001B[0m 2ms/step - accuracy: 0.7259 - loss: 1.0262 \nEpoch 124/300\n\u001B[1m8/8\u001B[0m \u001B[32m━━━━━━━━━━━━━━━━━━━━\u001B[0m\u001B[37m\u001B[0m \u001B[1m0s\u001B[0m 2ms/step - accuracy: 0.7507 - loss: 0.8799 \nEpoch 125/300\n\u001B[1m8/8\u001B[0m \u001B[32m━━━━━━━━━━━━━━━━━━━━\u001B[0m\u001B[37m\u001B[0m \u001B[1m0s\u001B[0m 2ms/step - accuracy: 0.7383 - loss: 1.0230 \nEpoch 126/300\n\u001B[1m8/8\u001B[0m \u001B[32m━━━━━━━━━━━━━━━━━━━━\u001B[0m\u001B[37m\u001B[0m \u001B[1m0s\u001B[0m 2ms/step - accuracy: 0.7279 - loss: 1.0688 \nEpoch 127/300\n\u001B[1m8/8\u001B[0m \u001B[32m━━━━━━━━━━━━━━━━━━━━\u001B[0m\u001B[37m\u001B[0m \u001B[1m0s\u001B[0m 2ms/step - accuracy: 0.7187 - loss: 1.0460 \nEpoch 128/300\n\u001B[1m8/8\u001B[0m \u001B[32m━━━━━━━━━━━━━━━━━━━━\u001B[0m\u001B[37m\u001B[0m \u001B[1m0s\u001B[0m 2ms/step - accuracy: 0.6945 - loss: 1.0788 \nEpoch 129/300\n\u001B[1m8/8\u001B[0m \u001B[32m━━━━━━━━━━━━━━━━━━━━\u001B[0m\u001B[37m\u001B[0m \u001B[1m0s\u001B[0m 2ms/step - accuracy: 0.7139 - loss: 0.9765 \nEpoch 130/300\n\u001B[1m8/8\u001B[0m \u001B[32m━━━━━━━━━━━━━━━━━━━━\u001B[0m\u001B[37m\u001B[0m \u001B[1m0s\u001B[0m 2ms/step - accuracy: 0.7341 - loss: 0.9254 \nEpoch 131/300\n\u001B[1m8/8\u001B[0m \u001B[32m━━━━━━━━━━━━━━━━━━━━\u001B[0m\u001B[37m\u001B[0m \u001B[1m0s\u001B[0m 2ms/step - accuracy: 0.7696 - loss: 0.7985 \nEpoch 132/300\n\u001B[1m8/8\u001B[0m \u001B[32m━━━━━━━━━━━━━━━━━━━━\u001B[0m\u001B[37m\u001B[0m \u001B[1m0s\u001B[0m 2ms/step - accuracy: 0.7396 - loss: 0.9820 \nEpoch 133/300\n\u001B[1m8/8\u001B[0m \u001B[32m━━━━━━━━━━━━━━━━━━━━\u001B[0m\u001B[37m\u001B[0m \u001B[1m0s\u001B[0m 2ms/step - accuracy: 0.7356 - loss: 0.8128 \nEpoch 134/300\n\u001B[1m8/8\u001B[0m \u001B[32m━━━━━━━━━━━━━━━━━━━━\u001B[0m\u001B[37m\u001B[0m \u001B[1m0s\u001B[0m 3ms/step - accuracy: 0.7601 - loss: 0.8007 \nEpoch 135/300\n\u001B[1m8/8\u001B[0m \u001B[32m━━━━━━━━━━━━━━━━━━━━\u001B[0m\u001B[37m\u001B[0m \u001B[1m0s\u001B[0m 2ms/step - accuracy: 0.7276 - loss: 0.7694 \nEpoch 136/300\n\u001B[1m8/8\u001B[0m \u001B[32m━━━━━━━━━━━━━━━━━━━━\u001B[0m\u001B[37m\u001B[0m \u001B[1m0s\u001B[0m 3ms/step - accuracy: 0.7905 - loss: 0.6651 \nEpoch 137/300\n\u001B[1m8/8\u001B[0m \u001B[32m━━━━━━━━━━━━━━━━━━━━\u001B[0m\u001B[37m\u001B[0m \u001B[1m0s\u001B[0m 2ms/step - accuracy: 0.7375 - loss: 0.8217 \nEpoch 138/300\n\u001B[1m8/8\u001B[0m \u001B[32m━━━━━━━━━━━━━━━━━━━━\u001B[0m\u001B[37m\u001B[0m \u001B[1m0s\u001B[0m 2ms/step - accuracy: 0.7621 - loss: 0.8570 \nEpoch 139/300\n\u001B[1m8/8\u001B[0m \u001B[32m━━━━━━━━━━━━━━━━━━━━\u001B[0m\u001B[37m\u001B[0m \u001B[1m0s\u001B[0m 2ms/step - accuracy: 0.7107 - loss: 0.7451 \nEpoch 140/300\n\u001B[1m8/8\u001B[0m \u001B[32m━━━━━━━━━━━━━━━━━━━━\u001B[0m\u001B[37m\u001B[0m \u001B[1m0s\u001B[0m 2ms/step - accuracy: 0.7380 - loss: 0.7843 \nEpoch 141/300\n\u001B[1m8/8\u001B[0m \u001B[32m━━━━━━━━━━━━━━━━━━━━\u001B[0m\u001B[37m\u001B[0m \u001B[1m0s\u001B[0m 2ms/step - accuracy: 0.7960 - loss: 0.7079 \nEpoch 142/300\n\u001B[1m8/8\u001B[0m \u001B[32m━━━━━━━━━━━━━━━━━━━━\u001B[0m\u001B[37m\u001B[0m \u001B[1m0s\u001B[0m 2ms/step - accuracy: 0.7073 - loss: 0.7383 \nEpoch 143/300\n\u001B[1m8/8\u001B[0m \u001B[32m━━━━━━━━━━━━━━━━━━━━\u001B[0m\u001B[37m\u001B[0m \u001B[1m0s\u001B[0m 2ms/step - accuracy: 0.8154 - loss: 0.6185 \nEpoch 144/300\n\u001B[1m8/8\u001B[0m \u001B[32m━━━━━━━━━━━━━━━━━━━━\u001B[0m\u001B[37m\u001B[0m \u001B[1m0s\u001B[0m 2ms/step - accuracy: 0.7383 - loss: 0.6308 \nEpoch 145/300\n\u001B[1m8/8\u001B[0m \u001B[32m━━━━━━━━━━━━━━━━━━━━\u001B[0m\u001B[37m\u001B[0m \u001B[1m0s\u001B[0m 2ms/step - accuracy: 0.7652 - loss: 0.7748 \nEpoch 146/300\n\u001B[1m8/8\u001B[0m \u001B[32m━━━━━━━━━━━━━━━━━━━━\u001B[0m\u001B[37m\u001B[0m \u001B[1m0s\u001B[0m 2ms/step - accuracy: 0.7356 - loss: 0.7000 \nEpoch 147/300\n\u001B[1m8/8\u001B[0m \u001B[32m━━━━━━━━━━━━━━━━━━━━\u001B[0m\u001B[37m\u001B[0m \u001B[1m0s\u001B[0m 2ms/step - accuracy: 0.7820 - loss: 0.6728 \nEpoch 148/300\n\u001B[1m8/8\u001B[0m \u001B[32m━━━━━━━━━━━━━━━━━━━━\u001B[0m\u001B[37m\u001B[0m \u001B[1m0s\u001B[0m 2ms/step - accuracy: 0.7900 - loss: 0.6350 \nEpoch 149/300\n\u001B[1m8/8\u001B[0m \u001B[32m━━━━━━━━━━━━━━━━━━━━\u001B[0m\u001B[37m\u001B[0m \u001B[1m0s\u001B[0m 3ms/step - accuracy: 0.6982 - loss: 0.6918 \nEpoch 150/300\n\u001B[1m8/8\u001B[0m \u001B[32m━━━━━━━━━━━━━━━━━━━━\u001B[0m\u001B[37m\u001B[0m \u001B[1m0s\u001B[0m 2ms/step - accuracy: 0.7806 - loss: 0.5524 \nEpoch 151/300\n\u001B[1m8/8\u001B[0m \u001B[32m━━━━━━━━━━━━━━━━━━━━\u001B[0m\u001B[37m\u001B[0m \u001B[1m0s\u001B[0m 2ms/step - accuracy: 0.7254 - loss: 0.6725 \nEpoch 152/300\n\u001B[1m8/8\u001B[0m \u001B[32m━━━━━━━━━━━━━━━━━━━━\u001B[0m\u001B[37m\u001B[0m \u001B[1m0s\u001B[0m 2ms/step - accuracy: 0.7720 - loss: 0.6694 \nEpoch 153/300\n\u001B[1m8/8\u001B[0m \u001B[32m━━━━━━━━━━━━━━━━━━━━\u001B[0m\u001B[37m\u001B[0m \u001B[1m0s\u001B[0m 2ms/step - accuracy: 0.7362 - loss: 0.6777 \nEpoch 154/300\n\u001B[1m8/8\u001B[0m \u001B[32m━━━━━━━━━━━━━━━━━━━━\u001B[0m\u001B[37m\u001B[0m \u001B[1m0s\u001B[0m 2ms/step - accuracy: 0.8026 - loss: 0.6233 \nEpoch 155/300\n\u001B[1m8/8\u001B[0m \u001B[32m━━━━━━━━━━━━━━━━━━━━\u001B[0m\u001B[37m\u001B[0m \u001B[1m0s\u001B[0m 2ms/step - accuracy: 0.6891 - loss: 0.6756 \nEpoch 156/300\n\u001B[1m8/8\u001B[0m \u001B[32m━━━━━━━━━━━━━━━━━━━━\u001B[0m\u001B[37m\u001B[0m \u001B[1m0s\u001B[0m 2ms/step - accuracy: 0.8032 - loss: 0.5455 \nEpoch 157/300\n\u001B[1m8/8\u001B[0m \u001B[32m━━━━━━━━━━━━━━━━━━━━\u001B[0m\u001B[37m\u001B[0m \u001B[1m0s\u001B[0m 2ms/step - accuracy: 0.7508 - loss: 0.5524 \nEpoch 158/300\n\u001B[1m8/8\u001B[0m \u001B[32m━━━━━━━━━━━━━━━━━━━━\u001B[0m\u001B[37m\u001B[0m \u001B[1m0s\u001B[0m 2ms/step - accuracy: 0.8024 - loss: 0.6006 \nEpoch 159/300\n\u001B[1m8/8\u001B[0m \u001B[32m━━━━━━━━━━━━━━━━━━━━\u001B[0m\u001B[37m\u001B[0m \u001B[1m0s\u001B[0m 2ms/step - accuracy: 0.7601 - loss: 0.5147 \nEpoch 160/300\n\u001B[1m8/8\u001B[0m \u001B[32m━━━━━━━━━━━━━━━━━━━━\u001B[0m\u001B[37m\u001B[0m \u001B[1m0s\u001B[0m 2ms/step - accuracy: 0.7757 - loss: 0.5752 \nEpoch 161/300\n\u001B[1m8/8\u001B[0m \u001B[32m━━━━━━━━━━━━━━━━━━━━\u001B[0m\u001B[37m\u001B[0m \u001B[1m0s\u001B[0m 2ms/step - accuracy: 0.7720 - loss: 0.6111 \nEpoch 162/300\n\u001B[1m8/8\u001B[0m \u001B[32m━━━━━━━━━━━━━━━━━━━━\u001B[0m\u001B[37m\u001B[0m \u001B[1m0s\u001B[0m 2ms/step - accuracy: 0.8194 - loss: 0.4348 \nEpoch 163/300\n\u001B[1m8/8\u001B[0m \u001B[32m━━━━━━━━━━━━━━━━━━━━\u001B[0m\u001B[37m\u001B[0m \u001B[1m0s\u001B[0m 2ms/step - accuracy: 0.8411 - loss: 0.4908 \nEpoch 164/300\n\u001B[1m8/8\u001B[0m \u001B[32m━━━━━━━━━━━━━━━━━━━━\u001B[0m\u001B[37m\u001B[0m \u001B[1m0s\u001B[0m 2ms/step - accuracy: 0.8152 - loss: 0.5171 \nEpoch 165/300\n\u001B[1m8/8\u001B[0m \u001B[32m━━━━━━━━━━━━━━━━━━━━\u001B[0m\u001B[37m\u001B[0m \u001B[1m0s\u001B[0m 2ms/step - accuracy: 0.7882 - loss: 0.5599 \nEpoch 166/300\n\u001B[1m8/8\u001B[0m \u001B[32m━━━━━━━━━━━━━━━━━━━━\u001B[0m\u001B[37m\u001B[0m \u001B[1m0s\u001B[0m 2ms/step - accuracy: 0.8079 - loss: 0.5005 \nEpoch 167/300\n\u001B[1m8/8\u001B[0m \u001B[32m━━━━━━━━━━━━━━━━━━━━\u001B[0m\u001B[37m\u001B[0m \u001B[1m0s\u001B[0m 2ms/step - accuracy: 0.8122 - loss: 0.5164 \nEpoch 168/300\n\u001B[1m8/8\u001B[0m \u001B[32m━━━━━━━━━━━━━━━━━━━━\u001B[0m\u001B[37m\u001B[0m \u001B[1m0s\u001B[0m 2ms/step - accuracy: 0.8269 - loss: 0.4446 \nEpoch 169/300\n\u001B[1m8/8\u001B[0m \u001B[32m━━━━━━━━━━━━━━━━━━━━\u001B[0m\u001B[37m\u001B[0m \u001B[1m0s\u001B[0m 2ms/step - accuracy: 0.7802 - loss: 0.4807 \nEpoch 170/300\n\u001B[1m8/8\u001B[0m \u001B[32m━━━━━━━━━━━━━━━━━━━━\u001B[0m\u001B[37m\u001B[0m \u001B[1m0s\u001B[0m 2ms/step - accuracy: 0.7944 - loss: 0.5499 \nEpoch 171/300\n\u001B[1m8/8\u001B[0m \u001B[32m━━━━━━━━━━━━━━━━━━━━\u001B[0m\u001B[37m\u001B[0m \u001B[1m0s\u001B[0m 2ms/step - accuracy: 0.7006 - loss: 0.6224 \nEpoch 172/300\n\u001B[1m8/8\u001B[0m \u001B[32m━━━━━━━━━━━━━━━━━━━━\u001B[0m\u001B[37m\u001B[0m \u001B[1m0s\u001B[0m 2ms/step - accuracy: 0.7833 - loss: 0.5202 \nEpoch 173/300\n\u001B[1m8/8\u001B[0m \u001B[32m━━━━━━━━━━━━━━━━━━━━\u001B[0m\u001B[37m\u001B[0m \u001B[1m0s\u001B[0m 2ms/step - accuracy: 0.7417 - loss: 0.5808 \nEpoch 174/300\n\u001B[1m8/8\u001B[0m \u001B[32m━━━━━━━━━━━━━━━━━━━━\u001B[0m\u001B[37m\u001B[0m \u001B[1m0s\u001B[0m 2ms/step - accuracy: 0.8035 - loss: 0.5166 \nEpoch 175/300\n\u001B[1m8/8\u001B[0m \u001B[32m━━━━━━━━━━━━━━━━━━━━\u001B[0m\u001B[37m\u001B[0m \u001B[1m0s\u001B[0m 2ms/step - accuracy: 0.7870 - loss: 0.5165 \nEpoch 176/300\n\u001B[1m8/8\u001B[0m \u001B[32m━━━━━━━━━━━━━━━━━━━━\u001B[0m\u001B[37m\u001B[0m \u001B[1m0s\u001B[0m 2ms/step - accuracy: 0.7819 - loss: 0.4472 \nEpoch 177/300\n\u001B[1m8/8\u001B[0m \u001B[32m━━━━━━━━━━━━━━━━━━━━\u001B[0m\u001B[37m\u001B[0m \u001B[1m0s\u001B[0m 2ms/step - accuracy: 0.8131 - loss: 0.5050 \nEpoch 178/300\n\u001B[1m8/8\u001B[0m \u001B[32m━━━━━━━━━━━━━━━━━━━━\u001B[0m\u001B[37m\u001B[0m \u001B[1m0s\u001B[0m 2ms/step - accuracy: 0.7773 - loss: 0.5078 \nEpoch 179/300\n\u001B[1m8/8\u001B[0m \u001B[32m━━━━━━━━━━━━━━━━━━━━\u001B[0m\u001B[37m\u001B[0m \u001B[1m0s\u001B[0m 3ms/step - accuracy: 0.8082 - loss: 0.4448 \nEpoch 180/300\n\u001B[1m8/8\u001B[0m \u001B[32m━━━━━━━━━━━━━━━━━━━━\u001B[0m\u001B[37m\u001B[0m \u001B[1m0s\u001B[0m 2ms/step - accuracy: 0.7743 - loss: 0.4976 \nEpoch 181/300\n\u001B[1m8/8\u001B[0m \u001B[32m━━━━━━━━━━━━━━━━━━━━\u001B[0m\u001B[37m\u001B[0m \u001B[1m0s\u001B[0m 2ms/step - accuracy: 0.7640 - loss: 0.4947 \nEpoch 182/300\n\u001B[1m8/8\u001B[0m \u001B[32m━━━━━━━━━━━━━━━━━━━━\u001B[0m\u001B[37m\u001B[0m \u001B[1m0s\u001B[0m 3ms/step - accuracy: 0.7352 - loss: 0.5513 \nEpoch 183/300\n\u001B[1m8/8\u001B[0m \u001B[32m━━━━━━━━━━━━━━━━━━━━\u001B[0m\u001B[37m\u001B[0m \u001B[1m0s\u001B[0m 2ms/step - accuracy: 0.8038 - loss: 0.4973 \nEpoch 184/300\n\u001B[1m8/8\u001B[0m \u001B[32m━━━━━━━━━━━━━━━━━━━━\u001B[0m\u001B[37m\u001B[0m \u001B[1m0s\u001B[0m 2ms/step - accuracy: 0.7829 - loss: 0.4439 \nEpoch 185/300\n\u001B[1m8/8\u001B[0m \u001B[32m━━━━━━━━━━━━━━━━━━━━\u001B[0m\u001B[37m\u001B[0m \u001B[1m0s\u001B[0m 2ms/step - accuracy: 0.7890 - loss: 0.4719 \nEpoch 186/300\n\u001B[1m8/8\u001B[0m \u001B[32m━━━━━━━━━━━━━━━━━━━━\u001B[0m\u001B[37m\u001B[0m \u001B[1m0s\u001B[0m 2ms/step - accuracy: 0.7504 - loss: 0.5142 \nEpoch 187/300\n\u001B[1m8/8\u001B[0m \u001B[32m━━━━━━━━━━━━━━━━━━━━\u001B[0m\u001B[37m\u001B[0m \u001B[1m0s\u001B[0m 2ms/step - accuracy: 0.7658 - loss: 0.4855 \nEpoch 188/300\n\u001B[1m8/8\u001B[0m \u001B[32m━━━━━━━━━━━━━━━━━━━━\u001B[0m\u001B[37m\u001B[0m \u001B[1m0s\u001B[0m 2ms/step - accuracy: 0.8065 - loss: 0.4372 \nEpoch 189/300\n\u001B[1m8/8\u001B[0m \u001B[32m━━━━━━━━━━━━━━━━━━━━\u001B[0m\u001B[37m\u001B[0m \u001B[1m0s\u001B[0m 2ms/step - accuracy: 0.7691 - loss: 0.4661 \nEpoch 190/300\n\u001B[1m8/8\u001B[0m \u001B[32m━━━━━━━━━━━━━━━━━━━━\u001B[0m\u001B[37m\u001B[0m \u001B[1m0s\u001B[0m 2ms/step - accuracy: 0.7761 - loss: 0.5042 \nEpoch 191/300\n\u001B[1m8/8\u001B[0m \u001B[32m━━━━━━━━━━━━━━━━━━━━\u001B[0m\u001B[37m\u001B[0m \u001B[1m0s\u001B[0m 2ms/step - accuracy: 0.8118 - loss: 0.4364 \nEpoch 192/300\n\u001B[1m8/8\u001B[0m \u001B[32m━━━━━━━━━━━━━━━━━━━━\u001B[0m\u001B[37m\u001B[0m \u001B[1m0s\u001B[0m 2ms/step - accuracy: 0.7678 - loss: 0.4778 \nEpoch 193/300\n\u001B[1m8/8\u001B[0m \u001B[32m━━━━━━━━━━━━━━━━━━━━\u001B[0m\u001B[37m\u001B[0m \u001B[1m0s\u001B[0m 2ms/step - accuracy: 0.7686 - loss: 0.4709 \nEpoch 194/300\n\u001B[1m8/8\u001B[0m \u001B[32m━━━━━━━━━━━━━━━━━━━━\u001B[0m\u001B[37m\u001B[0m \u001B[1m0s\u001B[0m 2ms/step - accuracy: 0.7978 - loss: 0.4101 \nEpoch 195/300\n\u001B[1m8/8\u001B[0m \u001B[32m━━━━━━━━━━━━━━━━━━━━\u001B[0m\u001B[37m\u001B[0m \u001B[1m0s\u001B[0m 2ms/step - accuracy: 0.7959 - loss: 0.4263 \nEpoch 196/300\n\u001B[1m8/8\u001B[0m \u001B[32m━━━━━━━━━━━━━━━━━━━━\u001B[0m\u001B[37m\u001B[0m \u001B[1m0s\u001B[0m 2ms/step - accuracy: 0.8221 - loss: 0.4088 \nEpoch 197/300\n\u001B[1m8/8\u001B[0m \u001B[32m━━━━━━━━━━━━━━━━━━━━\u001B[0m\u001B[37m\u001B[0m \u001B[1m0s\u001B[0m 2ms/step - accuracy: 0.8200 - loss: 0.3939 \nEpoch 198/300\n\u001B[1m8/8\u001B[0m \u001B[32m━━━━━━━━━━━━━━━━━━━━\u001B[0m\u001B[37m\u001B[0m \u001B[1m0s\u001B[0m 2ms/step - accuracy: 0.7974 - loss: 0.4422 \nEpoch 199/300\n\u001B[1m8/8\u001B[0m \u001B[32m━━━━━━━━━━━━━━━━━━━━\u001B[0m\u001B[37m\u001B[0m \u001B[1m0s\u001B[0m 2ms/step - accuracy: 0.7666 - loss: 0.4237 \nEpoch 200/300\n\u001B[1m8/8\u001B[0m \u001B[32m━━━━━━━━━━━━━━━━━━━━\u001B[0m\u001B[37m\u001B[0m \u001B[1m0s\u001B[0m 2ms/step - accuracy: 0.8109 - loss: 0.4254 \nEpoch 201/300\n\u001B[1m8/8\u001B[0m \u001B[32m━━━━━━━━━━━━━━━━━━━━\u001B[0m\u001B[37m\u001B[0m \u001B[1m0s\u001B[0m 2ms/step - accuracy: 0.8131 - loss: 0.3946 \nEpoch 202/300\n\u001B[1m8/8\u001B[0m \u001B[32m━━━━━━━━━━━━━━━━━━━━\u001B[0m\u001B[37m\u001B[0m \u001B[1m0s\u001B[0m 2ms/step - accuracy: 0.7958 - loss: 0.4359 \nEpoch 203/300\n\u001B[1m8/8\u001B[0m \u001B[32m━━━━━━━━━━━━━━━━━━━━\u001B[0m\u001B[37m\u001B[0m \u001B[1m0s\u001B[0m 2ms/step - accuracy: 0.8120 - loss: 0.4247 \nEpoch 204/300\n\u001B[1m8/8\u001B[0m \u001B[32m━━━━━━━━━━━━━━━━━━━━\u001B[0m\u001B[37m\u001B[0m \u001B[1m0s\u001B[0m 2ms/step - accuracy: 0.8001 - loss: 0.4529 \nEpoch 205/300\n\u001B[1m8/8\u001B[0m \u001B[32m━━━━━━━━━━━━━━━━━━━━\u001B[0m\u001B[37m\u001B[0m \u001B[1m0s\u001B[0m 2ms/step - accuracy: 0.8251 - loss: 0.4341 \nEpoch 206/300\n\u001B[1m8/8\u001B[0m \u001B[32m━━━━━━━━━━━━━━━━━━━━\u001B[0m\u001B[37m\u001B[0m \u001B[1m0s\u001B[0m 2ms/step - accuracy: 0.7903 - loss: 0.4265 \nEpoch 207/300\n\u001B[1m8/8\u001B[0m \u001B[32m━━━━━━━━━━━━━━━━━━━━\u001B[0m\u001B[37m\u001B[0m \u001B[1m0s\u001B[0m 2ms/step - accuracy: 0.7947 - loss: 0.4137 \nEpoch 208/300\n\u001B[1m8/8\u001B[0m \u001B[32m━━━━━━━━━━━━━━━━━━━━\u001B[0m\u001B[37m\u001B[0m \u001B[1m0s\u001B[0m 2ms/step - accuracy: 0.8231 - loss: 0.4277 \nEpoch 209/300\n\u001B[1m8/8\u001B[0m \u001B[32m━━━━━━━━━━━━━━━━━━━━\u001B[0m\u001B[37m\u001B[0m \u001B[1m0s\u001B[0m 2ms/step - accuracy: 0.8100 - loss: 0.4223 \nEpoch 210/300\n\u001B[1m8/8\u001B[0m \u001B[32m━━━━━━━━━━━━━━━━━━━━\u001B[0m\u001B[37m\u001B[0m \u001B[1m0s\u001B[0m 2ms/step - accuracy: 0.7866 - loss: 0.4604 \nEpoch 211/300\n\u001B[1m8/8\u001B[0m \u001B[32m━━━━━━━━━━━━━━━━━━━━\u001B[0m\u001B[37m\u001B[0m \u001B[1m0s\u001B[0m 2ms/step - accuracy: 0.7685 - loss: 0.4903 \nEpoch 212/300\n\u001B[1m8/8\u001B[0m \u001B[32m━━━━━━━━━━━━━━━━━━━━\u001B[0m\u001B[37m\u001B[0m \u001B[1m0s\u001B[0m 2ms/step - accuracy: 0.7928 - loss: 0.4819 \nEpoch 213/300\n\u001B[1m8/8\u001B[0m \u001B[32m━━━━━━━━━━━━━━━━━━━━\u001B[0m\u001B[37m\u001B[0m \u001B[1m0s\u001B[0m 2ms/step - accuracy: 0.8027 - loss: 0.4205 \nEpoch 214/300\n\u001B[1m8/8\u001B[0m \u001B[32m━━━━━━━━━━━━━━━━━━━━\u001B[0m\u001B[37m\u001B[0m \u001B[1m0s\u001B[0m 2ms/step - accuracy: 0.7945 - loss: 0.4566 \nEpoch 215/300\n\u001B[1m8/8\u001B[0m \u001B[32m━━━━━━━━━━━━━━━━━━━━\u001B[0m\u001B[37m\u001B[0m \u001B[1m0s\u001B[0m 3ms/step - accuracy: 0.7562 - loss: 0.4771 \nEpoch 216/300\n\u001B[1m8/8\u001B[0m \u001B[32m━━━━━━━━━━━━━━━━━━━━\u001B[0m\u001B[37m\u001B[0m \u001B[1m0s\u001B[0m 2ms/step - accuracy: 0.8243 - loss: 0.4071 \nEpoch 217/300\n\u001B[1m8/8\u001B[0m \u001B[32m━━━━━━━━━━━━━━━━━━━━\u001B[0m\u001B[37m\u001B[0m \u001B[1m0s\u001B[0m 2ms/step - accuracy: 0.8281 - loss: 0.4081 \nEpoch 218/300\n\u001B[1m8/8\u001B[0m \u001B[32m━━━━━━━━━━━━━━━━━━━━\u001B[0m\u001B[37m\u001B[0m \u001B[1m0s\u001B[0m 2ms/step - accuracy: 0.8173 - loss: 0.3863 \nEpoch 219/300\n\u001B[1m8/8\u001B[0m \u001B[32m━━━━━━━━━━━━━━━━━━━━\u001B[0m\u001B[37m\u001B[0m \u001B[1m0s\u001B[0m 2ms/step - accuracy: 0.7757 - loss: 0.4673 \nEpoch 220/300\n\u001B[1m8/8\u001B[0m \u001B[32m━━━━━━━━━━━━━━━━━━━━\u001B[0m\u001B[37m\u001B[0m \u001B[1m0s\u001B[0m 2ms/step - accuracy: 0.7817 - loss: 0.4393 \nEpoch 221/300\n\u001B[1m8/8\u001B[0m \u001B[32m━━━━━━━━━━━━━━━━━━━━\u001B[0m\u001B[37m\u001B[0m \u001B[1m0s\u001B[0m 2ms/step - accuracy: 0.7946 - loss: 0.4335 \nEpoch 222/300\n\u001B[1m8/8\u001B[0m \u001B[32m━━━━━━━━━━━━━━━━━━━━\u001B[0m\u001B[37m\u001B[0m \u001B[1m0s\u001B[0m 2ms/step - accuracy: 0.7888 - loss: 0.4553 \nEpoch 223/300\n\u001B[1m8/8\u001B[0m \u001B[32m━━━━━━━━━━━━━━━━━━━━\u001B[0m\u001B[37m\u001B[0m \u001B[1m0s\u001B[0m 2ms/step - accuracy: 0.7975 - loss: 0.4024 \nEpoch 224/300\n\u001B[1m8/8\u001B[0m \u001B[32m━━━━━━━━━━━━━━━━━━━━\u001B[0m\u001B[37m\u001B[0m \u001B[1m0s\u001B[0m 2ms/step - accuracy: 0.8018 - loss: 0.4088 \nEpoch 225/300\n\u001B[1m8/8\u001B[0m \u001B[32m━━━━━━━━━━━━━━━━━━━━\u001B[0m\u001B[37m\u001B[0m \u001B[1m0s\u001B[0m 2ms/step - accuracy: 0.8128 - loss: 0.4075 \nEpoch 226/300\n\u001B[1m8/8\u001B[0m \u001B[32m━━━━━━━━━━━━━━━━━━━━\u001B[0m\u001B[37m\u001B[0m \u001B[1m0s\u001B[0m 2ms/step - accuracy: 0.8097 - loss: 0.3895 \nEpoch 227/300\n\u001B[1m8/8\u001B[0m \u001B[32m━━━━━━━━━━━━━━━━━━━━\u001B[0m\u001B[37m\u001B[0m \u001B[1m0s\u001B[0m 2ms/step - accuracy: 0.8197 - loss: 0.4221 \nEpoch 228/300\n\u001B[1m8/8\u001B[0m \u001B[32m━━━━━━━━━━━━━━━━━━━━\u001B[0m\u001B[37m\u001B[0m \u001B[1m0s\u001B[0m 2ms/step - accuracy: 0.7753 - loss: 0.4603 \nEpoch 229/300\n\u001B[1m8/8\u001B[0m \u001B[32m━━━━━━━━━━━━━━━━━━━━\u001B[0m\u001B[37m\u001B[0m \u001B[1m0s\u001B[0m 2ms/step - accuracy: 0.7739 - loss: 0.4392 \nEpoch 230/300\n\u001B[1m8/8\u001B[0m \u001B[32m━━━━━━━━━━━━━━━━━━━━\u001B[0m\u001B[37m\u001B[0m \u001B[1m0s\u001B[0m 2ms/step - accuracy: 0.8151 - loss: 0.4069 \nEpoch 231/300\n\u001B[1m8/8\u001B[0m \u001B[32m━━━━━━━━━━━━━━━━━━━━\u001B[0m\u001B[37m\u001B[0m \u001B[1m0s\u001B[0m 2ms/step - accuracy: 0.7695 - loss: 0.4592 \nEpoch 232/300\n\u001B[1m8/8\u001B[0m \u001B[32m━━━━━━━━━━━━━━━━━━━━\u001B[0m\u001B[37m\u001B[0m \u001B[1m0s\u001B[0m 2ms/step - accuracy: 0.7864 - loss: 0.4294 \nEpoch 233/300\n\u001B[1m8/8\u001B[0m \u001B[32m━━━━━━━━━━━━━━━━━━━━\u001B[0m\u001B[37m\u001B[0m \u001B[1m0s\u001B[0m 2ms/step - accuracy: 0.8093 - loss: 0.4041 \nEpoch 234/300\n\u001B[1m8/8\u001B[0m \u001B[32m━━━━━━━━━━━━━━━━━━━━\u001B[0m\u001B[37m\u001B[0m \u001B[1m0s\u001B[0m 2ms/step - accuracy: 0.7942 - loss: 0.4341 \nEpoch 235/300\n\u001B[1m8/8\u001B[0m \u001B[32m━━━━━━━━━━━━━━━━━━━━\u001B[0m\u001B[37m\u001B[0m \u001B[1m0s\u001B[0m 2ms/step - accuracy: 0.8098 - loss: 0.4137 \nEpoch 236/300\n\u001B[1m8/8\u001B[0m \u001B[32m━━━━━━━━━━━━━━━━━━━━\u001B[0m\u001B[37m\u001B[0m \u001B[1m0s\u001B[0m 2ms/step - accuracy: 0.8108 - loss: 0.3837 \nEpoch 237/300\n\u001B[1m8/8\u001B[0m \u001B[32m━━━━━━━━━━━━━━━━━━━━\u001B[0m\u001B[37m\u001B[0m \u001B[1m0s\u001B[0m 2ms/step - accuracy: 0.7848 - loss: 0.4304 \nEpoch 238/300\n\u001B[1m8/8\u001B[0m \u001B[32m━━━━━━━━━━━━━━━━━━━━\u001B[0m\u001B[37m\u001B[0m \u001B[1m0s\u001B[0m 2ms/step - accuracy: 0.7854 - loss: 0.4162 \nEpoch 239/300\n\u001B[1m8/8\u001B[0m \u001B[32m━━━━━━━━━━━━━━━━━━━━\u001B[0m\u001B[37m\u001B[0m \u001B[1m0s\u001B[0m 2ms/step - accuracy: 0.7837 - loss: 0.4149 \nEpoch 240/300\n\u001B[1m8/8\u001B[0m \u001B[32m━━━━━━━━━━━━━━━━━━━━\u001B[0m\u001B[37m\u001B[0m \u001B[1m0s\u001B[0m 2ms/step - accuracy: 0.7494 - loss: 0.4555 \nEpoch 241/300\n\u001B[1m8/8\u001B[0m \u001B[32m━━━━━━━━━━━━━━━━━━━━\u001B[0m\u001B[37m\u001B[0m \u001B[1m0s\u001B[0m 2ms/step - accuracy: 0.7535 - loss: 0.5066 \nEpoch 242/300\n\u001B[1m8/8\u001B[0m \u001B[32m━━━━━━━━━━━━━━━━━━━━\u001B[0m\u001B[37m\u001B[0m \u001B[1m0s\u001B[0m 2ms/step - accuracy: 0.8181 - loss: 0.4132 \nEpoch 243/300\n\u001B[1m8/8\u001B[0m \u001B[32m━━━━━━━━━━━━━━━━━━━━\u001B[0m\u001B[37m\u001B[0m \u001B[1m0s\u001B[0m 2ms/step - accuracy: 0.7847 - loss: 0.4178 \nEpoch 244/300\n\u001B[1m8/8\u001B[0m \u001B[32m━━━━━━━━━━━━━━━━━━━━\u001B[0m\u001B[37m\u001B[0m \u001B[1m0s\u001B[0m 2ms/step - accuracy: 0.8023 - loss: 0.4239 \nEpoch 245/300\n\u001B[1m8/8\u001B[0m \u001B[32m━━━━━━━━━━━━━━━━━━━━\u001B[0m\u001B[37m\u001B[0m \u001B[1m0s\u001B[0m 2ms/step - accuracy: 0.8124 - loss: 0.3930 \nEpoch 246/300\n\u001B[1m8/8\u001B[0m \u001B[32m━━━━━━━━━━━━━━━━━━━━\u001B[0m\u001B[37m\u001B[0m \u001B[1m0s\u001B[0m 2ms/step - accuracy: 0.8371 - loss: 0.4332 \nEpoch 247/300\n\u001B[1m8/8\u001B[0m \u001B[32m━━━━━━━━━━━━━━━━━━━━\u001B[0m\u001B[37m\u001B[0m \u001B[1m0s\u001B[0m 2ms/step - accuracy: 0.7926 - loss: 0.4166 \nEpoch 248/300\n\u001B[1m8/8\u001B[0m \u001B[32m━━━━━━━━━━━━━━━━━━━━\u001B[0m\u001B[37m\u001B[0m \u001B[1m0s\u001B[0m 2ms/step - accuracy: 0.7778 - loss: 0.4261 \nEpoch 249/300\n\u001B[1m8/8\u001B[0m \u001B[32m━━━━━━━━━━━━━━━━━━━━\u001B[0m\u001B[37m\u001B[0m \u001B[1m0s\u001B[0m 2ms/step - accuracy: 0.7804 - loss: 0.4172 \nEpoch 250/300\n\u001B[1m8/8\u001B[0m \u001B[32m━━━━━━━━━━━━━━━━━━━━\u001B[0m\u001B[37m\u001B[0m \u001B[1m0s\u001B[0m 2ms/step - accuracy: 0.8002 - loss: 0.4184 \nEpoch 251/300\n\u001B[1m8/8\u001B[0m \u001B[32m━━━━━━━━━━━━━━━━━━━━\u001B[0m\u001B[37m\u001B[0m \u001B[1m0s\u001B[0m 2ms/step - accuracy: 0.7822 - loss: 0.4410 \nEpoch 252/300\n\u001B[1m8/8\u001B[0m \u001B[32m━━━━━━━━━━━━━━━━━━━━\u001B[0m\u001B[37m\u001B[0m \u001B[1m0s\u001B[0m 2ms/step - accuracy: 0.7963 - loss: 0.4887 \nEpoch 253/300\n\u001B[1m8/8\u001B[0m \u001B[32m━━━━━━━━━━━━━━━━━━━━\u001B[0m\u001B[37m\u001B[0m \u001B[1m0s\u001B[0m 2ms/step - accuracy: 0.7820 - loss: 0.4426 \nEpoch 254/300\n\u001B[1m8/8\u001B[0m \u001B[32m━━━━━━━━━━━━━━━━━━━━\u001B[0m\u001B[37m\u001B[0m \u001B[1m0s\u001B[0m 2ms/step - accuracy: 0.7735 - loss: 0.4560 \nEpoch 255/300\n\u001B[1m8/8\u001B[0m \u001B[32m━━━━━━━━━━━━━━━━━━━━\u001B[0m\u001B[37m\u001B[0m \u001B[1m0s\u001B[0m 2ms/step - accuracy: 0.8087 - loss: 0.4048 \nEpoch 256/300\n\u001B[1m8/8\u001B[0m \u001B[32m━━━━━━━━━━━━━━━━━━━━\u001B[0m\u001B[37m\u001B[0m \u001B[1m0s\u001B[0m 2ms/step - accuracy: 0.7827 - loss: 0.4294 \nEpoch 257/300\n\u001B[1m8/8\u001B[0m \u001B[32m━━━━━━━━━━━━━━━━━━━━\u001B[0m\u001B[37m\u001B[0m \u001B[1m0s\u001B[0m 2ms/step - accuracy: 0.7690 - loss: 0.4504 \nEpoch 258/300\n\u001B[1m8/8\u001B[0m \u001B[32m━━━━━━━━━━━━━━━━━━━━\u001B[0m\u001B[37m\u001B[0m \u001B[1m0s\u001B[0m 2ms/step - accuracy: 0.7781 - loss: 0.4452 \nEpoch 259/300\n\u001B[1m8/8\u001B[0m \u001B[32m━━━━━━━━━━━━━━━━━━━━\u001B[0m\u001B[37m\u001B[0m \u001B[1m0s\u001B[0m 2ms/step - accuracy: 0.7891 - loss: 0.4427 \nEpoch 260/300\n\u001B[1m8/8\u001B[0m \u001B[32m━━━━━━━━━━━━━━━━━━━━\u001B[0m\u001B[37m\u001B[0m \u001B[1m0s\u001B[0m 2ms/step - accuracy: 0.7919 - loss: 0.4383 \nEpoch 261/300\n\u001B[1m8/8\u001B[0m \u001B[32m━━━━━━━━━━━━━━━━━━━━\u001B[0m\u001B[37m\u001B[0m \u001B[1m0s\u001B[0m 2ms/step - accuracy: 0.7799 - loss: 0.4394 \nEpoch 262/300\n\u001B[1m8/8\u001B[0m \u001B[32m━━━━━━━━━━━━━━━━━━━━\u001B[0m\u001B[37m\u001B[0m \u001B[1m0s\u001B[0m 2ms/step - accuracy: 0.8230 - loss: 0.3827 \nEpoch 263/300\n\u001B[1m8/8\u001B[0m \u001B[32m━━━━━━━━━━━━━━━━━━━━\u001B[0m\u001B[37m\u001B[0m \u001B[1m0s\u001B[0m 2ms/step - accuracy: 0.7650 - loss: 0.4370 \nEpoch 264/300\n\u001B[1m8/8\u001B[0m \u001B[32m━━━━━━━━━━━━━━━━━━━━\u001B[0m\u001B[37m\u001B[0m \u001B[1m0s\u001B[0m 2ms/step - accuracy: 0.8140 - loss: 0.4130 \nEpoch 265/300\n\u001B[1m8/8\u001B[0m \u001B[32m━━━━━━━━━━━━━━━━━━━━\u001B[0m\u001B[37m\u001B[0m \u001B[1m0s\u001B[0m 2ms/step - accuracy: 0.8025 - loss: 0.3951 \nEpoch 266/300\n\u001B[1m8/8\u001B[0m \u001B[32m━━━━━━━━━━━━━━━━━━━━\u001B[0m\u001B[37m\u001B[0m \u001B[1m0s\u001B[0m 2ms/step - accuracy: 0.7749 - loss: 0.4362 \nEpoch 267/300\n\u001B[1m8/8\u001B[0m \u001B[32m━━━━━━━━━━━━━━━━━━━━\u001B[0m\u001B[37m\u001B[0m \u001B[1m0s\u001B[0m 2ms/step - accuracy: 0.8027 - loss: 0.4593 \nEpoch 268/300\n\u001B[1m8/8\u001B[0m \u001B[32m━━━━━━━━━━━━━━━━━━━━\u001B[0m\u001B[37m\u001B[0m \u001B[1m0s\u001B[0m 2ms/step - accuracy: 0.7724 - loss: 0.4438 \nEpoch 269/300\n\u001B[1m8/8\u001B[0m \u001B[32m━━━━━━━━━━━━━━━━━━━━\u001B[0m\u001B[37m\u001B[0m \u001B[1m0s\u001B[0m 2ms/step - accuracy: 0.8021 - loss: 0.4074 \nEpoch 270/300\n\u001B[1m8/8\u001B[0m \u001B[32m━━━━━━━━━━━━━━━━━━━━\u001B[0m\u001B[37m\u001B[0m \u001B[1m0s\u001B[0m 2ms/step - accuracy: 0.7976 - loss: 0.4409 \nEpoch 271/300\n\u001B[1m8/8\u001B[0m \u001B[32m━━━━━━━━━━━━━━━━━━━━\u001B[0m\u001B[37m\u001B[0m \u001B[1m0s\u001B[0m 2ms/step - accuracy: 0.8132 - loss: 0.4068 \nEpoch 272/300\n\u001B[1m8/8\u001B[0m \u001B[32m━━━━━━━━━━━━━━━━━━━━\u001B[0m\u001B[37m\u001B[0m \u001B[1m0s\u001B[0m 2ms/step - accuracy: 0.7965 - loss: 0.4258 \nEpoch 273/300\n\u001B[1m8/8\u001B[0m \u001B[32m━━━━━━━━━━━━━━━━━━━━\u001B[0m\u001B[37m\u001B[0m \u001B[1m0s\u001B[0m 2ms/step - accuracy: 0.7376 - loss: 0.5525 \nEpoch 274/300\n\u001B[1m8/8\u001B[0m \u001B[32m━━━━━━━━━━━━━━━━━━━━\u001B[0m\u001B[37m\u001B[0m \u001B[1m0s\u001B[0m 2ms/step - accuracy: 0.8290 - loss: 0.4019 \nEpoch 275/300\n\u001B[1m8/8\u001B[0m \u001B[32m━━━━━━━━━━━━━━━━━━━━\u001B[0m\u001B[37m\u001B[0m \u001B[1m0s\u001B[0m 2ms/step - accuracy: 0.8540 - loss: 0.3723 \nEpoch 276/300\n\u001B[1m8/8\u001B[0m \u001B[32m━━━━━━━━━━━━━━━━━━━━\u001B[0m\u001B[37m\u001B[0m \u001B[1m0s\u001B[0m 2ms/step - accuracy: 0.7950 - loss: 0.4268 \nEpoch 277/300\n\u001B[1m8/8\u001B[0m \u001B[32m━━━━━━━━━━━━━━━━━━━━\u001B[0m\u001B[37m\u001B[0m \u001B[1m0s\u001B[0m 2ms/step - accuracy: 0.8049 - loss: 0.4233 \nEpoch 278/300\n\u001B[1m8/8\u001B[0m \u001B[32m━━━━━━━━━━━━━━━━━━━━\u001B[0m\u001B[37m\u001B[0m \u001B[1m0s\u001B[0m 2ms/step - accuracy: 0.7958 - loss: 0.3944 \nEpoch 279/300\n\u001B[1m8/8\u001B[0m \u001B[32m━━━━━━━━━━━━━━━━━━━━\u001B[0m\u001B[37m\u001B[0m \u001B[1m0s\u001B[0m 2ms/step - accuracy: 0.7682 - loss: 0.4582 \nEpoch 280/300\n\u001B[1m8/8\u001B[0m \u001B[32m━━━━━━━━━━━━━━━━━━━━\u001B[0m\u001B[37m\u001B[0m \u001B[1m0s\u001B[0m 2ms/step - accuracy: 0.8010 - loss: 0.4428 \nEpoch 281/300\n\u001B[1m8/8\u001B[0m \u001B[32m━━━━━━━━━━━━━━━━━━━━\u001B[0m\u001B[37m\u001B[0m \u001B[1m0s\u001B[0m 2ms/step - accuracy: 0.7860 - loss: 0.4371 \nEpoch 282/300\n\u001B[1m8/8\u001B[0m \u001B[32m━━━━━━━━━━━━━━━━━━━━\u001B[0m\u001B[37m\u001B[0m \u001B[1m0s\u001B[0m 2ms/step - accuracy: 0.8418 - loss: 0.3747 \nEpoch 283/300\n\u001B[1m8/8\u001B[0m \u001B[32m━━━━━━━━━━━━━━━━━━━━\u001B[0m\u001B[37m\u001B[0m \u001B[1m0s\u001B[0m 2ms/step - accuracy: 0.7630 - loss: 0.4514 \nEpoch 284/300\n\u001B[1m8/8\u001B[0m \u001B[32m━━━━━━━━━━━━━━━━━━━━\u001B[0m\u001B[37m\u001B[0m \u001B[1m0s\u001B[0m 2ms/step - accuracy: 0.8316 - loss: 0.3658 \nEpoch 285/300\n\u001B[1m8/8\u001B[0m \u001B[32m━━━━━━━━━━━━━━━━━━━━\u001B[0m\u001B[37m\u001B[0m \u001B[1m0s\u001B[0m 2ms/step - accuracy: 0.8022 - loss: 0.3954 \nEpoch 286/300\n\u001B[1m8/8\u001B[0m \u001B[32m━━━━━━━━━━━━━━━━━━━━\u001B[0m\u001B[37m\u001B[0m \u001B[1m0s\u001B[0m 2ms/step - accuracy: 0.7932 - loss: 0.4520 \nEpoch 287/300\n\u001B[1m8/8\u001B[0m \u001B[32m━━━━━━━━━━━━━━━━━━━━\u001B[0m\u001B[37m\u001B[0m \u001B[1m0s\u001B[0m 2ms/step - accuracy: 0.7949 - loss: 0.4236 \nEpoch 288/300\n\u001B[1m8/8\u001B[0m \u001B[32m━━━━━━━━━━━━━━━━━━━━\u001B[0m\u001B[37m\u001B[0m \u001B[1m0s\u001B[0m 2ms/step - accuracy: 0.8347 - loss: 0.3640 \nEpoch 289/300\n\u001B[1m8/8\u001B[0m \u001B[32m━━━━━━━━━━━━━━━━━━━━\u001B[0m\u001B[37m\u001B[0m \u001B[1m0s\u001B[0m 2ms/step - accuracy: 0.8390 - loss: 0.4269 \nEpoch 290/300\n\u001B[1m8/8\u001B[0m \u001B[32m━━━━━━━━━━━━━━━━━━━━\u001B[0m\u001B[37m\u001B[0m \u001B[1m0s\u001B[0m 2ms/step - accuracy: 0.8548 - loss: 0.3830 \nEpoch 291/300\n\u001B[1m8/8\u001B[0m \u001B[32m━━━━━━━━━━━━━━━━━━━━\u001B[0m\u001B[37m\u001B[0m \u001B[1m0s\u001B[0m 2ms/step - accuracy: 0.8084 - loss: 0.4017 \nEpoch 292/300\n\u001B[1m8/8\u001B[0m \u001B[32m━━━━━━━━━━━━━━━━━━━━\u001B[0m\u001B[37m\u001B[0m \u001B[1m0s\u001B[0m 2ms/step - accuracy: 0.8062 - loss: 0.4072 \nEpoch 293/300\n\u001B[1m8/8\u001B[0m \u001B[32m━━━━━━━━━━━━━━━━━━━━\u001B[0m\u001B[37m\u001B[0m \u001B[1m0s\u001B[0m 2ms/step - accuracy: 0.7953 - loss: 0.3859 \nEpoch 294/300\n\u001B[1m8/8\u001B[0m \u001B[32m━━━━━━━━━━━━━━━━━━━━\u001B[0m\u001B[37m\u001B[0m \u001B[1m0s\u001B[0m 2ms/step - accuracy: 0.7713 - loss: 0.4701 \nEpoch 295/300\n\u001B[1m8/8\u001B[0m \u001B[32m━━━━━━━━━━━━━━━━━━━━\u001B[0m\u001B[37m\u001B[0m \u001B[1m0s\u001B[0m 2ms/step - accuracy: 0.8284 - loss: 0.4094 \nEpoch 296/300\n\u001B[1m8/8\u001B[0m \u001B[32m━━━━━━━━━━━━━━━━━━━━\u001B[0m\u001B[37m\u001B[0m \u001B[1m0s\u001B[0m 2ms/step - accuracy: 0.7968 - loss: 0.4420 \nEpoch 297/300\n\u001B[1m8/8\u001B[0m \u001B[32m━━━━━━━━━━━━━━━━━━━━\u001B[0m\u001B[37m\u001B[0m \u001B[1m0s\u001B[0m 2ms/step - accuracy: 0.7933 - loss: 0.4125 \nEpoch 298/300\n\u001B[1m8/8\u001B[0m \u001B[32m━━━━━━━━━━━━━━━━━━━━\u001B[0m\u001B[37m\u001B[0m \u001B[1m0s\u001B[0m 2ms/step - accuracy: 0.7992 - loss: 0.4022 \nEpoch 299/300\n\u001B[1m8/8\u001B[0m \u001B[32m━━━━━━━━━━━━━━━━━━━━\u001B[0m\u001B[37m\u001B[0m \u001B[1m0s\u001B[0m 2ms/step - accuracy: 0.8271 - loss: 0.4434 \nEpoch 300/300\n\u001B[1m8/8\u001B[0m \u001B[32m━━━━━━━━━━━━━━━━━━━━\u001B[0m\u001B[37m\u001B[0m \u001B[1m0s\u001B[0m 2ms/step - accuracy: 0.7894 - loss: 0.4201 \n",
     "output_type": "stream"
    },
    {
     "execution_count": 99,
     "output_type": "execute_result",
     "data": {
      "text/plain": "<keras.src.callbacks.history.History at 0x7fa5e85e2dd0>"
     },
     "metadata": {}
    }
   ]
  },
  {
   "cell_type": "code",
   "source": [
    "Y_pred_nn = model.predict(X_test)"
   ],
   "metadata": {
    "execution": {
     "iopub.status.busy": "2024-03-28T08:57:31.611940Z",
     "iopub.execute_input": "2024-03-28T08:57:31.612414Z",
     "iopub.status.idle": "2024-03-28T08:57:31.701790Z",
     "shell.execute_reply.started": "2024-03-28T08:57:31.612375Z",
     "shell.execute_reply": "2024-03-28T08:57:31.700589Z"
    },
    "trusted": true
   },
   "execution_count": 122,
   "outputs": [
    {
     "name": "stdout",
     "text": "\u001B[1m2/2\u001B[0m \u001B[32m━━━━━━━━━━━━━━━━━━━━\u001B[0m\u001B[37m\u001B[0m \u001B[1m0s\u001B[0m 3ms/step \n",
     "output_type": "stream"
    }
   ]
  },
  {
   "cell_type": "code",
   "source": [
    "Y_pred_nn.shape"
   ],
   "metadata": {
    "execution": {
     "iopub.status.busy": "2024-03-28T08:57:33.327870Z",
     "iopub.execute_input": "2024-03-28T08:57:33.328281Z",
     "iopub.status.idle": "2024-03-28T08:57:33.335911Z",
     "shell.execute_reply.started": "2024-03-28T08:57:33.328249Z",
     "shell.execute_reply": "2024-03-28T08:57:33.334607Z"
    },
    "trusted": true
   },
   "execution_count": 123,
   "outputs": [
    {
     "execution_count": 123,
     "output_type": "execute_result",
     "data": {
      "text/plain": "(61, 1)"
     },
     "metadata": {}
    }
   ]
  },
  {
   "cell_type": "code",
   "source": [
    "\n",
    "# Làm tròn từng phần tử của mảng Y_pred_nn sang số nguyên\n",
    "rounded = np.round(Y_pred_nn).astype(int)\n",
    "\n",
    "# Cập nhật mảng Y_pred_nn với giá trị đã được làm tròn\n",
    "Y_pred_nn = rounded"
   ],
   "metadata": {
    "execution": {
     "iopub.status.busy": "2024-03-28T08:57:37.588529Z",
     "iopub.execute_input": "2024-03-28T08:57:37.588962Z",
     "iopub.status.idle": "2024-03-28T08:57:37.595123Z",
     "shell.execute_reply.started": "2024-03-28T08:57:37.588927Z",
     "shell.execute_reply": "2024-03-28T08:57:37.593730Z"
    },
    "trusted": true
   },
   "execution_count": 126,
   "outputs": []
  },
  {
   "cell_type": "code",
   "source": [
    "score_nn = round(accuracy_score(Y_pred_nn,Y_test)*100,2)\n",
    "\n",
    "print(\"The accuracy score achieved using Neural Network is: \"+str(score_nn)+\" %\")"
   ],
   "metadata": {
    "execution": {
     "iopub.status.busy": "2024-03-28T08:57:39.277998Z",
     "iopub.execute_input": "2024-03-28T08:57:39.278394Z",
     "iopub.status.idle": "2024-03-28T08:57:39.287220Z",
     "shell.execute_reply.started": "2024-03-28T08:57:39.278364Z",
     "shell.execute_reply": "2024-03-28T08:57:39.286044Z"
    },
    "trusted": true
   },
   "execution_count": 127,
   "outputs": [
    {
     "name": "stdout",
     "text": "The accuracy score achieved using Neural Network is: 81.97 %\n",
     "output_type": "stream"
    }
   ]
  },
  {
   "cell_type": "markdown",
   "source": [
    "**Output final score**"
   ],
   "metadata": {}
  },
  {
   "cell_type": "code",
   "source": [
    "scores = [score_lr,score_nb,score_svm,score_knn,score_dt,score_rf,score_xgb,score_nn]\n",
    "algorithms = [\"Logistic Regression\",\"Naive Bayes\",\"Support Vector Machine\",\"K-Nearest Neighbors\",\"Decision Tree\",\"Random Forest\",\"XGBoost\",\"Neural Network\"]    \n",
    "\n",
    "for i in range(len(algorithms)):\n",
    "    print(\"The accuracy score achieved using \"+algorithms[i]+\" is: \"+str(scores[i])+\" %\")"
   ],
   "metadata": {
    "execution": {
     "iopub.status.busy": "2024-03-28T08:58:18.443491Z",
     "iopub.execute_input": "2024-03-28T08:58:18.443938Z",
     "iopub.status.idle": "2024-03-28T08:58:18.453999Z",
     "shell.execute_reply.started": "2024-03-28T08:58:18.443893Z",
     "shell.execute_reply": "2024-03-28T08:58:18.452484Z"
    },
    "trusted": true
   },
   "execution_count": 128,
   "outputs": [
    {
     "name": "stdout",
     "text": "The accuracy score achieved using Logistic Regression is: 83.61 %\nThe accuracy score achieved using Naive Bayes is: 81.97 %\nThe accuracy score achieved using Support Vector Machine is: 86.89 %\nThe accuracy score achieved using K-Nearest Neighbors is: 67.21 %\nThe accuracy score achieved using Decision Tree is: 77.05 %\nThe accuracy score achieved using Random Forest is: 88.52 %\nThe accuracy score achieved using XGBoost is: 78.69 %\nThe accuracy score achieved using Neural Network is: 81.97 %\n",
     "output_type": "stream"
    }
   ]
  },
  {
   "cell_type": "code",
   "source": [
    "import seaborn as sns\n",
    "import matplotlib.pyplot as plt\n",
    "\n",
    "# Your data\n",
    "scores = [score_lr, score_nb, score_svm, score_knn, score_dt, score_rf, score_xgb, score_nn]\n",
    "algorithms = [\"Logistic Regression\", \"Naive Bayes\", \"Support Vector Machine\", \"K-Nearest Neighbors\", \"Decision Tree\", \"Random Forest\", \"XGBoost\", \"Neural Network\"]\n",
    "\n",
    "# Create a DataFrame\n",
    "data = {'Algorithms': algorithms, 'Accuracy Score': scores}\n",
    "df = pd.DataFrame(data)\n",
    "\n",
    "# Set the figure size\n",
    "sns.set(rc={'figure.figsize':(15, 8)})\n",
    "\n",
    "# Create the bar plot\n",
    "sns.barplot(x='Algorithms', y='Accuracy Score', data=df)\n",
    "\n",
    "# Set labels\n",
    "plt.xlabel(\"Algorithms\")\n",
    "plt.ylabel(\"Accuracy score\")\n",
    "\n",
    "# Show the plot\n",
    "plt.show()"
   ],
   "metadata": {
    "execution": {
     "iopub.status.busy": "2024-03-28T08:58:20.724458Z",
     "iopub.execute_input": "2024-03-28T08:58:20.724844Z",
     "iopub.status.idle": "2024-03-28T08:58:21.156228Z",
     "shell.execute_reply.started": "2024-03-28T08:58:20.724816Z",
     "shell.execute_reply": "2024-03-28T08:58:21.155115Z"
    },
    "trusted": true
   },
   "execution_count": 129,
   "outputs": [
    {
     "output_type": "display_data",
     "data": {
      "text/plain": "<Figure size 1500x800 with 1 Axes>",
      "image/png": "[encoded data removed]"
     },
     "metadata": {}
    }
   ]
  }
 ]
}
